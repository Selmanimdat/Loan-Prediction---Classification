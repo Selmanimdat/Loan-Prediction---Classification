{
 "cells": [
  {
   "cell_type": "markdown",
   "id": "d347ad66",
   "metadata": {},
   "source": [
    "# Loan Prediction"
   ]
  },
  {
   "cell_type": "code",
   "execution_count": 1,
   "id": "d77fe4c4",
   "metadata": {},
   "outputs": [],
   "source": [
    "#  this notebook for customer for customer segmentation \n",
    "# here all code is belong to Zafer Acar and if used another code from another person is stated"
   ]
  },
  {
   "cell_type": "code",
   "execution_count": 2,
   "id": "17751db7",
   "metadata": {},
   "outputs": [],
   "source": [
    "#import libraries"
   ]
  },
  {
   "cell_type": "code",
   "execution_count": 3,
   "id": "3ad4044e",
   "metadata": {},
   "outputs": [],
   "source": [
    "import pandas as pd\n",
    "import warnings\n",
    "\n",
    "warnings.filterwarnings('ignore')\n",
    "\n",
    "import re"
   ]
  },
  {
   "cell_type": "code",
   "execution_count": 4,
   "id": "86676622",
   "metadata": {},
   "outputs": [],
   "source": [
    "#upload data"
   ]
  },
  {
   "cell_type": "code",
   "execution_count": 5,
   "id": "42c1f692",
   "metadata": {},
   "outputs": [],
   "source": [
    "df=pd.read_csv(\"LoansTrainingSet.csv\")"
   ]
  },
  {
   "cell_type": "code",
   "execution_count": 6,
   "id": "97eb2c44",
   "metadata": {},
   "outputs": [],
   "source": [
    "#EDA explatory data analysis"
   ]
  },
  {
   "cell_type": "code",
   "execution_count": 7,
   "id": "5caac240",
   "metadata": {},
   "outputs": [],
   "source": [
    "# see first 5 cells"
   ]
  },
  {
   "cell_type": "code",
   "execution_count": 8,
   "id": "e597d1c7",
   "metadata": {},
   "outputs": [
    {
     "data": {
      "text/html": [
       "<div>\n",
       "<style scoped>\n",
       "    .dataframe tbody tr th:only-of-type {\n",
       "        vertical-align: middle;\n",
       "    }\n",
       "\n",
       "    .dataframe tbody tr th {\n",
       "        vertical-align: top;\n",
       "    }\n",
       "\n",
       "    .dataframe thead th {\n",
       "        text-align: right;\n",
       "    }\n",
       "</style>\n",
       "<table border=\"1\" class=\"dataframe\">\n",
       "  <thead>\n",
       "    <tr style=\"text-align: right;\">\n",
       "      <th></th>\n",
       "      <th>Loan ID</th>\n",
       "      <th>Customer ID</th>\n",
       "      <th>Loan Status</th>\n",
       "      <th>Current Loan Amount</th>\n",
       "      <th>Term</th>\n",
       "      <th>Credit Score</th>\n",
       "      <th>Years in current job</th>\n",
       "      <th>Home Ownership</th>\n",
       "      <th>Annual Income</th>\n",
       "      <th>Purpose</th>\n",
       "      <th>Monthly Debt</th>\n",
       "      <th>Years of Credit History</th>\n",
       "      <th>Months since last delinquent</th>\n",
       "      <th>Number of Open Accounts</th>\n",
       "      <th>Number of Credit Problems</th>\n",
       "      <th>Current Credit Balance</th>\n",
       "      <th>Maximum Open Credit</th>\n",
       "      <th>Bankruptcies</th>\n",
       "      <th>Tax Liens</th>\n",
       "    </tr>\n",
       "  </thead>\n",
       "  <tbody>\n",
       "    <tr>\n",
       "      <th>0</th>\n",
       "      <td>000025bb-5694-4cff-b17d-192b1a98ba44</td>\n",
       "      <td>5ebc8bb1-5eb9-4404-b11b-a6eebc401a19</td>\n",
       "      <td>Fully Paid</td>\n",
       "      <td>11520</td>\n",
       "      <td>Short Term</td>\n",
       "      <td>741.0</td>\n",
       "      <td>10+ years</td>\n",
       "      <td>Home Mortgage</td>\n",
       "      <td>33694.0</td>\n",
       "      <td>Debt Consolidation</td>\n",
       "      <td>$584.03</td>\n",
       "      <td>12.3</td>\n",
       "      <td>41.0</td>\n",
       "      <td>10</td>\n",
       "      <td>0</td>\n",
       "      <td>6760</td>\n",
       "      <td>16056</td>\n",
       "      <td>0.0</td>\n",
       "      <td>0.0</td>\n",
       "    </tr>\n",
       "    <tr>\n",
       "      <th>1</th>\n",
       "      <td>00002c49-3a29-4bd4-8f67-c8f8fbc1048c</td>\n",
       "      <td>927b388d-2e01-423f-a8dc-f7e42d668f46</td>\n",
       "      <td>Fully Paid</td>\n",
       "      <td>3441</td>\n",
       "      <td>Short Term</td>\n",
       "      <td>734.0</td>\n",
       "      <td>4 years</td>\n",
       "      <td>Home Mortgage</td>\n",
       "      <td>42269.0</td>\n",
       "      <td>other</td>\n",
       "      <td>$1,106.04</td>\n",
       "      <td>26.3</td>\n",
       "      <td>NaN</td>\n",
       "      <td>17</td>\n",
       "      <td>0</td>\n",
       "      <td>6262</td>\n",
       "      <td>19149</td>\n",
       "      <td>0.0</td>\n",
       "      <td>0.0</td>\n",
       "    </tr>\n",
       "    <tr>\n",
       "      <th>2</th>\n",
       "      <td>00002d89-27f3-409b-aa76-90834f359a65</td>\n",
       "      <td>defce609-c631-447d-aad6-1270615e89c4</td>\n",
       "      <td>Fully Paid</td>\n",
       "      <td>21029</td>\n",
       "      <td>Short Term</td>\n",
       "      <td>747.0</td>\n",
       "      <td>10+ years</td>\n",
       "      <td>Home Mortgage</td>\n",
       "      <td>90126.0</td>\n",
       "      <td>Debt Consolidation</td>\n",
       "      <td>$1,321.85</td>\n",
       "      <td>28.8</td>\n",
       "      <td>NaN</td>\n",
       "      <td>5</td>\n",
       "      <td>0</td>\n",
       "      <td>20967</td>\n",
       "      <td>28335</td>\n",
       "      <td>0.0</td>\n",
       "      <td>0.0</td>\n",
       "    </tr>\n",
       "    <tr>\n",
       "      <th>3</th>\n",
       "      <td>00005222-b4d8-45a4-ad8c-186057e24233</td>\n",
       "      <td>070bcecb-aae7-4485-a26a-e0403e7bb6c5</td>\n",
       "      <td>Fully Paid</td>\n",
       "      <td>18743</td>\n",
       "      <td>Short Term</td>\n",
       "      <td>747.0</td>\n",
       "      <td>10+ years</td>\n",
       "      <td>Own Home</td>\n",
       "      <td>38072.0</td>\n",
       "      <td>Debt Consolidation</td>\n",
       "      <td>$751.92</td>\n",
       "      <td>26.2</td>\n",
       "      <td>NaN</td>\n",
       "      <td>9</td>\n",
       "      <td>0</td>\n",
       "      <td>22529</td>\n",
       "      <td>43915</td>\n",
       "      <td>0.0</td>\n",
       "      <td>0.0</td>\n",
       "    </tr>\n",
       "    <tr>\n",
       "      <th>4</th>\n",
       "      <td>0000757f-a121-41ed-b17b-162e76647c1f</td>\n",
       "      <td>dde79588-12f0-4811-bab0-e2b07f633fcd</td>\n",
       "      <td>Fully Paid</td>\n",
       "      <td>11731</td>\n",
       "      <td>Short Term</td>\n",
       "      <td>746.0</td>\n",
       "      <td>4 years</td>\n",
       "      <td>Rent</td>\n",
       "      <td>50025.0</td>\n",
       "      <td>Debt Consolidation</td>\n",
       "      <td>$355.18</td>\n",
       "      <td>11.5</td>\n",
       "      <td>NaN</td>\n",
       "      <td>12</td>\n",
       "      <td>0</td>\n",
       "      <td>17391</td>\n",
       "      <td>37081</td>\n",
       "      <td>0.0</td>\n",
       "      <td>0.0</td>\n",
       "    </tr>\n",
       "  </tbody>\n",
       "</table>\n",
       "</div>"
      ],
      "text/plain": [
       "                                Loan ID                           Customer ID  \\\n",
       "0  000025bb-5694-4cff-b17d-192b1a98ba44  5ebc8bb1-5eb9-4404-b11b-a6eebc401a19   \n",
       "1  00002c49-3a29-4bd4-8f67-c8f8fbc1048c  927b388d-2e01-423f-a8dc-f7e42d668f46   \n",
       "2  00002d89-27f3-409b-aa76-90834f359a65  defce609-c631-447d-aad6-1270615e89c4   \n",
       "3  00005222-b4d8-45a4-ad8c-186057e24233  070bcecb-aae7-4485-a26a-e0403e7bb6c5   \n",
       "4  0000757f-a121-41ed-b17b-162e76647c1f  dde79588-12f0-4811-bab0-e2b07f633fcd   \n",
       "\n",
       "  Loan Status  Current Loan Amount        Term  Credit Score  \\\n",
       "0  Fully Paid                11520  Short Term         741.0   \n",
       "1  Fully Paid                 3441  Short Term         734.0   \n",
       "2  Fully Paid                21029  Short Term         747.0   \n",
       "3  Fully Paid                18743  Short Term         747.0   \n",
       "4  Fully Paid                11731  Short Term         746.0   \n",
       "\n",
       "  Years in current job Home Ownership  Annual Income             Purpose  \\\n",
       "0            10+ years  Home Mortgage        33694.0  Debt Consolidation   \n",
       "1              4 years  Home Mortgage        42269.0               other   \n",
       "2            10+ years  Home Mortgage        90126.0  Debt Consolidation   \n",
       "3            10+ years       Own Home        38072.0  Debt Consolidation   \n",
       "4              4 years           Rent        50025.0  Debt Consolidation   \n",
       "\n",
       "  Monthly Debt  Years of Credit History  Months since last delinquent  \\\n",
       "0      $584.03                     12.3                          41.0   \n",
       "1   $1,106.04                      26.3                           NaN   \n",
       "2   $1,321.85                      28.8                           NaN   \n",
       "3      $751.92                     26.2                           NaN   \n",
       "4      $355.18                     11.5                           NaN   \n",
       "\n",
       "   Number of Open Accounts  Number of Credit Problems  Current Credit Balance  \\\n",
       "0                       10                          0                    6760   \n",
       "1                       17                          0                    6262   \n",
       "2                        5                          0                   20967   \n",
       "3                        9                          0                   22529   \n",
       "4                       12                          0                   17391   \n",
       "\n",
       "  Maximum Open Credit  Bankruptcies  Tax Liens  \n",
       "0               16056           0.0        0.0  \n",
       "1               19149           0.0        0.0  \n",
       "2               28335           0.0        0.0  \n",
       "3               43915           0.0        0.0  \n",
       "4               37081           0.0        0.0  "
      ]
     },
     "execution_count": 8,
     "metadata": {},
     "output_type": "execute_result"
    }
   ],
   "source": [
    "df.head()"
   ]
  },
  {
   "cell_type": "code",
   "execution_count": 9,
   "id": "7589dd3d",
   "metadata": {},
   "outputs": [],
   "source": [
    "#see data shape"
   ]
  },
  {
   "cell_type": "code",
   "execution_count": 10,
   "id": "60de178f",
   "metadata": {},
   "outputs": [
    {
     "data": {
      "text/plain": [
       "(256984, 19)"
      ]
     },
     "execution_count": 10,
     "metadata": {},
     "output_type": "execute_result"
    }
   ],
   "source": [
    "df.shape"
   ]
  },
  {
   "cell_type": "code",
   "execution_count": 11,
   "id": "e7de5889",
   "metadata": {},
   "outputs": [],
   "source": [
    "#see information from data"
   ]
  },
  {
   "cell_type": "code",
   "execution_count": 12,
   "id": "73b14eb1",
   "metadata": {},
   "outputs": [
    {
     "name": "stdout",
     "output_type": "stream",
     "text": [
      "<class 'pandas.core.frame.DataFrame'>\n",
      "RangeIndex: 256984 entries, 0 to 256983\n",
      "Data columns (total 19 columns):\n",
      " #   Column                        Non-Null Count   Dtype  \n",
      "---  ------                        --------------   -----  \n",
      " 0   Loan ID                       256984 non-null  object \n",
      " 1   Customer ID                   256984 non-null  object \n",
      " 2   Loan Status                   256984 non-null  object \n",
      " 3   Current Loan Amount           256984 non-null  int64  \n",
      " 4   Term                          256984 non-null  object \n",
      " 5   Credit Score                  195308 non-null  float64\n",
      " 6   Years in current job          245508 non-null  object \n",
      " 7   Home Ownership                256984 non-null  object \n",
      " 8   Annual Income                 195308 non-null  float64\n",
      " 9   Purpose                       256984 non-null  object \n",
      " 10  Monthly Debt                  256984 non-null  object \n",
      " 11  Years of Credit History       256984 non-null  float64\n",
      " 12  Months since last delinquent  116601 non-null  float64\n",
      " 13  Number of Open Accounts       256984 non-null  int64  \n",
      " 14  Number of Credit Problems     256984 non-null  int64  \n",
      " 15  Current Credit Balance        256984 non-null  int64  \n",
      " 16  Maximum Open Credit           256984 non-null  object \n",
      " 17  Bankruptcies                  256455 non-null  float64\n",
      " 18  Tax Liens                     256961 non-null  float64\n",
      "dtypes: float64(6), int64(4), object(9)\n",
      "memory usage: 37.3+ MB\n"
     ]
    }
   ],
   "source": [
    "df.info()"
   ]
  },
  {
   "cell_type": "code",
   "execution_count": 13,
   "id": "d05dd3a0",
   "metadata": {},
   "outputs": [],
   "source": [
    "# see statisticcs about data"
   ]
  },
  {
   "cell_type": "code",
   "execution_count": 14,
   "id": "3db64e40",
   "metadata": {},
   "outputs": [
    {
     "data": {
      "text/html": [
       "<div>\n",
       "<style scoped>\n",
       "    .dataframe tbody tr th:only-of-type {\n",
       "        vertical-align: middle;\n",
       "    }\n",
       "\n",
       "    .dataframe tbody tr th {\n",
       "        vertical-align: top;\n",
       "    }\n",
       "\n",
       "    .dataframe thead th {\n",
       "        text-align: right;\n",
       "    }\n",
       "</style>\n",
       "<table border=\"1\" class=\"dataframe\">\n",
       "  <thead>\n",
       "    <tr style=\"text-align: right;\">\n",
       "      <th></th>\n",
       "      <th>count</th>\n",
       "      <th>mean</th>\n",
       "      <th>std</th>\n",
       "      <th>min</th>\n",
       "      <th>25%</th>\n",
       "      <th>50%</th>\n",
       "      <th>75%</th>\n",
       "      <th>max</th>\n",
       "    </tr>\n",
       "  </thead>\n",
       "  <tbody>\n",
       "    <tr>\n",
       "      <th>Current Loan Amount</th>\n",
       "      <td>256984.0</td>\n",
       "      <td>13713306.26</td>\n",
       "      <td>34381306.57</td>\n",
       "      <td>505.0</td>\n",
       "      <td>8299.0</td>\n",
       "      <td>14298.0</td>\n",
       "      <td>24367.0</td>\n",
       "      <td>99999999.0</td>\n",
       "    </tr>\n",
       "    <tr>\n",
       "      <th>Credit Score</th>\n",
       "      <td>195308.0</td>\n",
       "      <td>1251.12</td>\n",
       "      <td>1762.02</td>\n",
       "      <td>585.0</td>\n",
       "      <td>714.0</td>\n",
       "      <td>733.0</td>\n",
       "      <td>744.0</td>\n",
       "      <td>7510.0</td>\n",
       "    </tr>\n",
       "    <tr>\n",
       "      <th>Annual Income</th>\n",
       "      <td>195308.0</td>\n",
       "      <td>71952.72</td>\n",
       "      <td>58877.57</td>\n",
       "      <td>0.0</td>\n",
       "      <td>44321.0</td>\n",
       "      <td>61242.0</td>\n",
       "      <td>86462.0</td>\n",
       "      <td>8713547.0</td>\n",
       "    </tr>\n",
       "    <tr>\n",
       "      <th>Years of Credit History</th>\n",
       "      <td>256984.0</td>\n",
       "      <td>18.29</td>\n",
       "      <td>7.08</td>\n",
       "      <td>3.4</td>\n",
       "      <td>13.5</td>\n",
       "      <td>17.0</td>\n",
       "      <td>21.7</td>\n",
       "      <td>70.5</td>\n",
       "    </tr>\n",
       "    <tr>\n",
       "      <th>Months since last delinquent</th>\n",
       "      <td>116601.0</td>\n",
       "      <td>34.88</td>\n",
       "      <td>21.85</td>\n",
       "      <td>0.0</td>\n",
       "      <td>16.0</td>\n",
       "      <td>32.0</td>\n",
       "      <td>51.0</td>\n",
       "      <td>176.0</td>\n",
       "    </tr>\n",
       "    <tr>\n",
       "      <th>Number of Open Accounts</th>\n",
       "      <td>256984.0</td>\n",
       "      <td>11.11</td>\n",
       "      <td>4.98</td>\n",
       "      <td>0.0</td>\n",
       "      <td>8.0</td>\n",
       "      <td>10.0</td>\n",
       "      <td>14.0</td>\n",
       "      <td>76.0</td>\n",
       "    </tr>\n",
       "    <tr>\n",
       "      <th>Number of Credit Problems</th>\n",
       "      <td>256984.0</td>\n",
       "      <td>0.16</td>\n",
       "      <td>0.46</td>\n",
       "      <td>0.0</td>\n",
       "      <td>0.0</td>\n",
       "      <td>0.0</td>\n",
       "      <td>0.0</td>\n",
       "      <td>11.0</td>\n",
       "    </tr>\n",
       "    <tr>\n",
       "      <th>Current Credit Balance</th>\n",
       "      <td>256984.0</td>\n",
       "      <td>15406.56</td>\n",
       "      <td>19665.06</td>\n",
       "      <td>0.0</td>\n",
       "      <td>5974.0</td>\n",
       "      <td>11078.0</td>\n",
       "      <td>19319.0</td>\n",
       "      <td>1731412.0</td>\n",
       "    </tr>\n",
       "    <tr>\n",
       "      <th>Bankruptcies</th>\n",
       "      <td>256455.0</td>\n",
       "      <td>0.11</td>\n",
       "      <td>0.34</td>\n",
       "      <td>0.0</td>\n",
       "      <td>0.0</td>\n",
       "      <td>0.0</td>\n",
       "      <td>0.0</td>\n",
       "      <td>7.0</td>\n",
       "    </tr>\n",
       "    <tr>\n",
       "      <th>Tax Liens</th>\n",
       "      <td>256961.0</td>\n",
       "      <td>0.03</td>\n",
       "      <td>0.25</td>\n",
       "      <td>0.0</td>\n",
       "      <td>0.0</td>\n",
       "      <td>0.0</td>\n",
       "      <td>0.0</td>\n",
       "      <td>11.0</td>\n",
       "    </tr>\n",
       "  </tbody>\n",
       "</table>\n",
       "</div>"
      ],
      "text/plain": [
       "                                 count         mean          std    min  \\\n",
       "Current Loan Amount           256984.0  13713306.26  34381306.57  505.0   \n",
       "Credit Score                  195308.0      1251.12      1762.02  585.0   \n",
       "Annual Income                 195308.0     71952.72     58877.57    0.0   \n",
       "Years of Credit History       256984.0        18.29         7.08    3.4   \n",
       "Months since last delinquent  116601.0        34.88        21.85    0.0   \n",
       "Number of Open Accounts       256984.0        11.11         4.98    0.0   \n",
       "Number of Credit Problems     256984.0         0.16         0.46    0.0   \n",
       "Current Credit Balance        256984.0     15406.56     19665.06    0.0   \n",
       "Bankruptcies                  256455.0         0.11         0.34    0.0   \n",
       "Tax Liens                     256961.0         0.03         0.25    0.0   \n",
       "\n",
       "                                  25%      50%      75%         max  \n",
       "Current Loan Amount            8299.0  14298.0  24367.0  99999999.0  \n",
       "Credit Score                    714.0    733.0    744.0      7510.0  \n",
       "Annual Income                 44321.0  61242.0  86462.0   8713547.0  \n",
       "Years of Credit History          13.5     17.0     21.7        70.5  \n",
       "Months since last delinquent     16.0     32.0     51.0       176.0  \n",
       "Number of Open Accounts           8.0     10.0     14.0        76.0  \n",
       "Number of Credit Problems         0.0      0.0      0.0        11.0  \n",
       "Current Credit Balance         5974.0  11078.0  19319.0   1731412.0  \n",
       "Bankruptcies                      0.0      0.0      0.0         7.0  \n",
       "Tax Liens                         0.0      0.0      0.0        11.0  "
      ]
     },
     "execution_count": 14,
     "metadata": {},
     "output_type": "execute_result"
    }
   ],
   "source": [
    "df.describe().T.round(2)"
   ]
  },
  {
   "cell_type": "code",
   "execution_count": 15,
   "id": "83f828be",
   "metadata": {},
   "outputs": [],
   "source": [
    "# see the corelaitons belong to data"
   ]
  },
  {
   "cell_type": "code",
   "execution_count": 16,
   "id": "fb081f76",
   "metadata": {},
   "outputs": [
    {
     "data": {
      "text/html": [
       "<div>\n",
       "<style scoped>\n",
       "    .dataframe tbody tr th:only-of-type {\n",
       "        vertical-align: middle;\n",
       "    }\n",
       "\n",
       "    .dataframe tbody tr th {\n",
       "        vertical-align: top;\n",
       "    }\n",
       "\n",
       "    .dataframe thead th {\n",
       "        text-align: right;\n",
       "    }\n",
       "</style>\n",
       "<table border=\"1\" class=\"dataframe\">\n",
       "  <thead>\n",
       "    <tr style=\"text-align: right;\">\n",
       "      <th></th>\n",
       "      <th>Current Loan Amount</th>\n",
       "      <th>Credit Score</th>\n",
       "      <th>Annual Income</th>\n",
       "      <th>Years of Credit History</th>\n",
       "      <th>Months since last delinquent</th>\n",
       "      <th>Number of Open Accounts</th>\n",
       "      <th>Number of Credit Problems</th>\n",
       "      <th>Current Credit Balance</th>\n",
       "      <th>Bankruptcies</th>\n",
       "      <th>Tax Liens</th>\n",
       "    </tr>\n",
       "  </thead>\n",
       "  <tbody>\n",
       "    <tr>\n",
       "      <th>Current Loan Amount</th>\n",
       "      <td>1.000000</td>\n",
       "      <td>-0.139743</td>\n",
       "      <td>0.024069</td>\n",
       "      <td>0.014725</td>\n",
       "      <td>0.003488</td>\n",
       "      <td>-0.003094</td>\n",
       "      <td>-0.000062</td>\n",
       "      <td>0.003138</td>\n",
       "      <td>0.003576</td>\n",
       "      <td>-0.003069</td>\n",
       "    </tr>\n",
       "    <tr>\n",
       "      <th>Credit Score</th>\n",
       "      <td>-0.139743</td>\n",
       "      <td>1.000000</td>\n",
       "      <td>-0.033221</td>\n",
       "      <td>-0.011658</td>\n",
       "      <td>-0.007994</td>\n",
       "      <td>0.008124</td>\n",
       "      <td>0.000777</td>\n",
       "      <td>-0.003263</td>\n",
       "      <td>-0.003426</td>\n",
       "      <td>0.004381</td>\n",
       "    </tr>\n",
       "    <tr>\n",
       "      <th>Annual Income</th>\n",
       "      <td>0.024069</td>\n",
       "      <td>-0.033221</td>\n",
       "      <td>1.000000</td>\n",
       "      <td>0.146859</td>\n",
       "      <td>-0.059675</td>\n",
       "      <td>0.140463</td>\n",
       "      <td>-0.013672</td>\n",
       "      <td>0.292165</td>\n",
       "      <td>-0.044837</td>\n",
       "      <td>0.038185</td>\n",
       "    </tr>\n",
       "    <tr>\n",
       "      <th>Years of Credit History</th>\n",
       "      <td>0.014725</td>\n",
       "      <td>-0.011658</td>\n",
       "      <td>0.146859</td>\n",
       "      <td>1.000000</td>\n",
       "      <td>-0.039695</td>\n",
       "      <td>0.128033</td>\n",
       "      <td>0.061251</td>\n",
       "      <td>0.201001</td>\n",
       "      <td>0.062049</td>\n",
       "      <td>0.020915</td>\n",
       "    </tr>\n",
       "    <tr>\n",
       "      <th>Months since last delinquent</th>\n",
       "      <td>0.003488</td>\n",
       "      <td>-0.007994</td>\n",
       "      <td>-0.059675</td>\n",
       "      <td>-0.039695</td>\n",
       "      <td>1.000000</td>\n",
       "      <td>-0.035803</td>\n",
       "      <td>0.088612</td>\n",
       "      <td>-0.024292</td>\n",
       "      <td>0.112907</td>\n",
       "      <td>0.002730</td>\n",
       "    </tr>\n",
       "    <tr>\n",
       "      <th>Number of Open Accounts</th>\n",
       "      <td>-0.003094</td>\n",
       "      <td>0.008124</td>\n",
       "      <td>0.140463</td>\n",
       "      <td>0.128033</td>\n",
       "      <td>-0.035803</td>\n",
       "      <td>1.000000</td>\n",
       "      <td>-0.013731</td>\n",
       "      <td>0.222763</td>\n",
       "      <td>-0.022805</td>\n",
       "      <td>0.005754</td>\n",
       "    </tr>\n",
       "    <tr>\n",
       "      <th>Number of Credit Problems</th>\n",
       "      <td>-0.000062</td>\n",
       "      <td>0.000777</td>\n",
       "      <td>-0.013672</td>\n",
       "      <td>0.061251</td>\n",
       "      <td>0.088612</td>\n",
       "      <td>-0.013731</td>\n",
       "      <td>1.000000</td>\n",
       "      <td>-0.103814</td>\n",
       "      <td>0.755866</td>\n",
       "      <td>0.584917</td>\n",
       "    </tr>\n",
       "    <tr>\n",
       "      <th>Current Credit Balance</th>\n",
       "      <td>0.003138</td>\n",
       "      <td>-0.003263</td>\n",
       "      <td>0.292165</td>\n",
       "      <td>0.201001</td>\n",
       "      <td>-0.024292</td>\n",
       "      <td>0.222763</td>\n",
       "      <td>-0.103814</td>\n",
       "      <td>1.000000</td>\n",
       "      <td>-0.117995</td>\n",
       "      <td>-0.011118</td>\n",
       "    </tr>\n",
       "    <tr>\n",
       "      <th>Bankruptcies</th>\n",
       "      <td>0.003576</td>\n",
       "      <td>-0.003426</td>\n",
       "      <td>-0.044837</td>\n",
       "      <td>0.062049</td>\n",
       "      <td>0.112907</td>\n",
       "      <td>-0.022805</td>\n",
       "      <td>0.755866</td>\n",
       "      <td>-0.117995</td>\n",
       "      <td>1.000000</td>\n",
       "      <td>0.046160</td>\n",
       "    </tr>\n",
       "    <tr>\n",
       "      <th>Tax Liens</th>\n",
       "      <td>-0.003069</td>\n",
       "      <td>0.004381</td>\n",
       "      <td>0.038185</td>\n",
       "      <td>0.020915</td>\n",
       "      <td>0.002730</td>\n",
       "      <td>0.005754</td>\n",
       "      <td>0.584917</td>\n",
       "      <td>-0.011118</td>\n",
       "      <td>0.046160</td>\n",
       "      <td>1.000000</td>\n",
       "    </tr>\n",
       "  </tbody>\n",
       "</table>\n",
       "</div>"
      ],
      "text/plain": [
       "                              Current Loan Amount  Credit Score  \\\n",
       "Current Loan Amount                      1.000000     -0.139743   \n",
       "Credit Score                            -0.139743      1.000000   \n",
       "Annual Income                            0.024069     -0.033221   \n",
       "Years of Credit History                  0.014725     -0.011658   \n",
       "Months since last delinquent             0.003488     -0.007994   \n",
       "Number of Open Accounts                 -0.003094      0.008124   \n",
       "Number of Credit Problems               -0.000062      0.000777   \n",
       "Current Credit Balance                   0.003138     -0.003263   \n",
       "Bankruptcies                             0.003576     -0.003426   \n",
       "Tax Liens                               -0.003069      0.004381   \n",
       "\n",
       "                              Annual Income  Years of Credit History  \\\n",
       "Current Loan Amount                0.024069                 0.014725   \n",
       "Credit Score                      -0.033221                -0.011658   \n",
       "Annual Income                      1.000000                 0.146859   \n",
       "Years of Credit History            0.146859                 1.000000   \n",
       "Months since last delinquent      -0.059675                -0.039695   \n",
       "Number of Open Accounts            0.140463                 0.128033   \n",
       "Number of Credit Problems         -0.013672                 0.061251   \n",
       "Current Credit Balance             0.292165                 0.201001   \n",
       "Bankruptcies                      -0.044837                 0.062049   \n",
       "Tax Liens                          0.038185                 0.020915   \n",
       "\n",
       "                              Months since last delinquent  \\\n",
       "Current Loan Amount                               0.003488   \n",
       "Credit Score                                     -0.007994   \n",
       "Annual Income                                    -0.059675   \n",
       "Years of Credit History                          -0.039695   \n",
       "Months since last delinquent                      1.000000   \n",
       "Number of Open Accounts                          -0.035803   \n",
       "Number of Credit Problems                         0.088612   \n",
       "Current Credit Balance                           -0.024292   \n",
       "Bankruptcies                                      0.112907   \n",
       "Tax Liens                                         0.002730   \n",
       "\n",
       "                              Number of Open Accounts  \\\n",
       "Current Loan Amount                         -0.003094   \n",
       "Credit Score                                 0.008124   \n",
       "Annual Income                                0.140463   \n",
       "Years of Credit History                      0.128033   \n",
       "Months since last delinquent                -0.035803   \n",
       "Number of Open Accounts                      1.000000   \n",
       "Number of Credit Problems                   -0.013731   \n",
       "Current Credit Balance                       0.222763   \n",
       "Bankruptcies                                -0.022805   \n",
       "Tax Liens                                    0.005754   \n",
       "\n",
       "                              Number of Credit Problems  \\\n",
       "Current Loan Amount                           -0.000062   \n",
       "Credit Score                                   0.000777   \n",
       "Annual Income                                 -0.013672   \n",
       "Years of Credit History                        0.061251   \n",
       "Months since last delinquent                   0.088612   \n",
       "Number of Open Accounts                       -0.013731   \n",
       "Number of Credit Problems                      1.000000   \n",
       "Current Credit Balance                        -0.103814   \n",
       "Bankruptcies                                   0.755866   \n",
       "Tax Liens                                      0.584917   \n",
       "\n",
       "                              Current Credit Balance  Bankruptcies  Tax Liens  \n",
       "Current Loan Amount                         0.003138      0.003576  -0.003069  \n",
       "Credit Score                               -0.003263     -0.003426   0.004381  \n",
       "Annual Income                               0.292165     -0.044837   0.038185  \n",
       "Years of Credit History                     0.201001      0.062049   0.020915  \n",
       "Months since last delinquent               -0.024292      0.112907   0.002730  \n",
       "Number of Open Accounts                     0.222763     -0.022805   0.005754  \n",
       "Number of Credit Problems                  -0.103814      0.755866   0.584917  \n",
       "Current Credit Balance                      1.000000     -0.117995  -0.011118  \n",
       "Bankruptcies                               -0.117995      1.000000   0.046160  \n",
       "Tax Liens                                  -0.011118      0.046160   1.000000  "
      ]
     },
     "execution_count": 16,
     "metadata": {},
     "output_type": "execute_result"
    }
   ],
   "source": [
    "df.corr()"
   ]
  },
  {
   "cell_type": "code",
   "execution_count": 17,
   "id": "314c91aa",
   "metadata": {},
   "outputs": [],
   "source": [
    "# see datas columns names"
   ]
  },
  {
   "cell_type": "code",
   "execution_count": 18,
   "id": "4c34bb46",
   "metadata": {},
   "outputs": [
    {
     "data": {
      "text/plain": [
       "Index(['Loan ID', 'Customer ID', 'Loan Status', 'Current Loan Amount', 'Term',\n",
       "       'Credit Score', 'Years in current job', 'Home Ownership',\n",
       "       'Annual Income', 'Purpose', 'Monthly Debt', 'Years of Credit History',\n",
       "       'Months since last delinquent', 'Number of Open Accounts',\n",
       "       'Number of Credit Problems', 'Current Credit Balance',\n",
       "       'Maximum Open Credit', 'Bankruptcies', 'Tax Liens'],\n",
       "      dtype='object')"
      ]
     },
     "execution_count": 18,
     "metadata": {},
     "output_type": "execute_result"
    }
   ],
   "source": [
    "df.columns"
   ]
  },
  {
   "cell_type": "code",
   "execution_count": 19,
   "id": "5a345706",
   "metadata": {},
   "outputs": [],
   "source": [
    "# is data have missing values? see"
   ]
  },
  {
   "cell_type": "code",
   "execution_count": 20,
   "id": "7b77017b",
   "metadata": {},
   "outputs": [
    {
     "data": {
      "text/plain": [
       "Loan ID                              0\n",
       "Customer ID                          0\n",
       "Loan Status                          0\n",
       "Current Loan Amount                  0\n",
       "Term                                 0\n",
       "Credit Score                     61676\n",
       "Years in current job             11476\n",
       "Home Ownership                       0\n",
       "Annual Income                    61676\n",
       "Purpose                              0\n",
       "Monthly Debt                         0\n",
       "Years of Credit History              0\n",
       "Months since last delinquent    140383\n",
       "Number of Open Accounts              0\n",
       "Number of Credit Problems            0\n",
       "Current Credit Balance               0\n",
       "Maximum Open Credit                  0\n",
       "Bankruptcies                       529\n",
       "Tax Liens                           23\n",
       "dtype: int64"
      ]
     },
     "execution_count": 20,
     "metadata": {},
     "output_type": "execute_result"
    }
   ],
   "source": [
    "df.isnull().sum()"
   ]
  },
  {
   "cell_type": "code",
   "execution_count": 21,
   "id": "84341765",
   "metadata": {},
   "outputs": [],
   "source": [
    "# Handdle missing values"
   ]
  },
  {
   "cell_type": "raw",
   "id": "835e3a07",
   "metadata": {},
   "source": [
    "\"\"\"\n",
    "cloumns [\"Credit Score\",\"Years in current job\",\"Annual Income\",\"Months since last delinquent\",\"Bankruptcies\",\"Tax Liens\"]\n",
    "have none values. We will fill all columns because no one bigger than 205587.2 (0.80 from all data).\n",
    "\n",
    "we will fill all mising data with mean,and Years in current job cells with \n",
    "\n",
    "\"\"\""
   ]
  },
  {
   "cell_type": "code",
   "execution_count": 22,
   "id": "477f0bb4",
   "metadata": {},
   "outputs": [],
   "source": [
    "#fill all cell with their mean unless Years in current job"
   ]
  },
  {
   "cell_type": "code",
   "execution_count": 23,
   "id": "6166990f",
   "metadata": {},
   "outputs": [],
   "source": [
    "df['Credit Score']=df['Credit Score'].fillna(df['Credit Score'].mean()) \n",
    "#df['Years in current job']=df['Years in current job'].fillna(df['Years in current job'].mean()) \n",
    "df['Annual Income']=df['Annual Income'].fillna(df['Annual Income'].mean()) \n",
    "df['Months since last delinquent']=df['Months since last delinquent'].fillna(df['Months since last delinquent'].mean()) \n",
    "df['Bankruptcies']=df['Bankruptcies'].fillna(df['Bankruptcies'].mean()) \n",
    "df['Tax Liens']=df['Tax Liens'].fillna(df['Tax Liens'].mean()) "
   ]
  },
  {
   "cell_type": "code",
   "execution_count": 24,
   "id": "f76e2acd",
   "metadata": {},
   "outputs": [],
   "source": [
    "#calcularte Years in current job mode"
   ]
  },
  {
   "cell_type": "code",
   "execution_count": 25,
   "id": "7ddc7ac1",
   "metadata": {},
   "outputs": [
    {
     "data": {
      "text/plain": [
       "0    10+ years\n",
       "Name: Years in current job, dtype: object"
      ]
     },
     "execution_count": 25,
     "metadata": {},
     "output_type": "execute_result"
    }
   ],
   "source": [
    "df[\"Years in current job\"].mode()"
   ]
  },
  {
   "cell_type": "code",
   "execution_count": 26,
   "id": "cda4dad2",
   "metadata": {},
   "outputs": [],
   "source": [
    "#fill Years in current job with mode"
   ]
  },
  {
   "cell_type": "code",
   "execution_count": 27,
   "id": "1dfda1a0",
   "metadata": {},
   "outputs": [],
   "source": [
    "df['Years in current job']=df['Years in current job'].fillna(\"10+ years\")"
   ]
  },
  {
   "cell_type": "code",
   "execution_count": 28,
   "id": "e8e166a6",
   "metadata": {},
   "outputs": [],
   "source": [
    "#check missing values is fill"
   ]
  },
  {
   "cell_type": "code",
   "execution_count": 29,
   "id": "af39cbfa",
   "metadata": {},
   "outputs": [
    {
     "data": {
      "text/plain": [
       "0"
      ]
     },
     "execution_count": 29,
     "metadata": {},
     "output_type": "execute_result"
    }
   ],
   "source": [
    "df.isnull().sum().sum()#second sum belong to Selman İmdat"
   ]
  },
  {
   "cell_type": "code",
   "execution_count": 30,
   "id": "9beb1b2d",
   "metadata": {},
   "outputs": [],
   "source": [
    "#we will drop dupliacate cells"
   ]
  },
  {
   "cell_type": "code",
   "execution_count": 31,
   "id": "3170c28e",
   "metadata": {},
   "outputs": [],
   "source": [
    "df = df.drop_duplicates()#belong to Selman İmdat"
   ]
  },
  {
   "cell_type": "code",
   "execution_count": 32,
   "id": "a9572b9f",
   "metadata": {},
   "outputs": [],
   "source": [
    "#see how many cells stayed"
   ]
  },
  {
   "cell_type": "code",
   "execution_count": 33,
   "id": "43fb4868",
   "metadata": {},
   "outputs": [
    {
     "data": {
      "text/plain": [
       "(240374, 19)"
      ]
     },
     "execution_count": 33,
     "metadata": {},
     "output_type": "execute_result"
    }
   ],
   "source": [
    "df.shape"
   ]
  },
  {
   "cell_type": "code",
   "execution_count": 34,
   "id": "77534142",
   "metadata": {},
   "outputs": [],
   "source": [
    "# feature engineering"
   ]
  },
  {
   "cell_type": "code",
   "execution_count": 35,
   "id": "fd096536",
   "metadata": {},
   "outputs": [],
   "source": [
    "# see first 5 cells"
   ]
  },
  {
   "cell_type": "code",
   "execution_count": 36,
   "id": "83600a91",
   "metadata": {},
   "outputs": [
    {
     "data": {
      "text/html": [
       "<div>\n",
       "<style scoped>\n",
       "    .dataframe tbody tr th:only-of-type {\n",
       "        vertical-align: middle;\n",
       "    }\n",
       "\n",
       "    .dataframe tbody tr th {\n",
       "        vertical-align: top;\n",
       "    }\n",
       "\n",
       "    .dataframe thead th {\n",
       "        text-align: right;\n",
       "    }\n",
       "</style>\n",
       "<table border=\"1\" class=\"dataframe\">\n",
       "  <thead>\n",
       "    <tr style=\"text-align: right;\">\n",
       "      <th></th>\n",
       "      <th>Loan ID</th>\n",
       "      <th>Customer ID</th>\n",
       "      <th>Loan Status</th>\n",
       "      <th>Current Loan Amount</th>\n",
       "      <th>Term</th>\n",
       "      <th>Credit Score</th>\n",
       "      <th>Years in current job</th>\n",
       "      <th>Home Ownership</th>\n",
       "      <th>Annual Income</th>\n",
       "      <th>Purpose</th>\n",
       "      <th>Monthly Debt</th>\n",
       "      <th>Years of Credit History</th>\n",
       "      <th>Months since last delinquent</th>\n",
       "      <th>Number of Open Accounts</th>\n",
       "      <th>Number of Credit Problems</th>\n",
       "      <th>Current Credit Balance</th>\n",
       "      <th>Maximum Open Credit</th>\n",
       "      <th>Bankruptcies</th>\n",
       "      <th>Tax Liens</th>\n",
       "    </tr>\n",
       "  </thead>\n",
       "  <tbody>\n",
       "    <tr>\n",
       "      <th>0</th>\n",
       "      <td>000025bb-5694-4cff-b17d-192b1a98ba44</td>\n",
       "      <td>5ebc8bb1-5eb9-4404-b11b-a6eebc401a19</td>\n",
       "      <td>Fully Paid</td>\n",
       "      <td>11520</td>\n",
       "      <td>Short Term</td>\n",
       "      <td>741.0</td>\n",
       "      <td>10+ years</td>\n",
       "      <td>Home Mortgage</td>\n",
       "      <td>33694.0</td>\n",
       "      <td>Debt Consolidation</td>\n",
       "      <td>$584.03</td>\n",
       "      <td>12.3</td>\n",
       "      <td>41.00000</td>\n",
       "      <td>10</td>\n",
       "      <td>0</td>\n",
       "      <td>6760</td>\n",
       "      <td>16056</td>\n",
       "      <td>0.0</td>\n",
       "      <td>0.0</td>\n",
       "    </tr>\n",
       "    <tr>\n",
       "      <th>1</th>\n",
       "      <td>00002c49-3a29-4bd4-8f67-c8f8fbc1048c</td>\n",
       "      <td>927b388d-2e01-423f-a8dc-f7e42d668f46</td>\n",
       "      <td>Fully Paid</td>\n",
       "      <td>3441</td>\n",
       "      <td>Short Term</td>\n",
       "      <td>734.0</td>\n",
       "      <td>4 years</td>\n",
       "      <td>Home Mortgage</td>\n",
       "      <td>42269.0</td>\n",
       "      <td>other</td>\n",
       "      <td>$1,106.04</td>\n",
       "      <td>26.3</td>\n",
       "      <td>34.88145</td>\n",
       "      <td>17</td>\n",
       "      <td>0</td>\n",
       "      <td>6262</td>\n",
       "      <td>19149</td>\n",
       "      <td>0.0</td>\n",
       "      <td>0.0</td>\n",
       "    </tr>\n",
       "    <tr>\n",
       "      <th>2</th>\n",
       "      <td>00002d89-27f3-409b-aa76-90834f359a65</td>\n",
       "      <td>defce609-c631-447d-aad6-1270615e89c4</td>\n",
       "      <td>Fully Paid</td>\n",
       "      <td>21029</td>\n",
       "      <td>Short Term</td>\n",
       "      <td>747.0</td>\n",
       "      <td>10+ years</td>\n",
       "      <td>Home Mortgage</td>\n",
       "      <td>90126.0</td>\n",
       "      <td>Debt Consolidation</td>\n",
       "      <td>$1,321.85</td>\n",
       "      <td>28.8</td>\n",
       "      <td>34.88145</td>\n",
       "      <td>5</td>\n",
       "      <td>0</td>\n",
       "      <td>20967</td>\n",
       "      <td>28335</td>\n",
       "      <td>0.0</td>\n",
       "      <td>0.0</td>\n",
       "    </tr>\n",
       "    <tr>\n",
       "      <th>3</th>\n",
       "      <td>00005222-b4d8-45a4-ad8c-186057e24233</td>\n",
       "      <td>070bcecb-aae7-4485-a26a-e0403e7bb6c5</td>\n",
       "      <td>Fully Paid</td>\n",
       "      <td>18743</td>\n",
       "      <td>Short Term</td>\n",
       "      <td>747.0</td>\n",
       "      <td>10+ years</td>\n",
       "      <td>Own Home</td>\n",
       "      <td>38072.0</td>\n",
       "      <td>Debt Consolidation</td>\n",
       "      <td>$751.92</td>\n",
       "      <td>26.2</td>\n",
       "      <td>34.88145</td>\n",
       "      <td>9</td>\n",
       "      <td>0</td>\n",
       "      <td>22529</td>\n",
       "      <td>43915</td>\n",
       "      <td>0.0</td>\n",
       "      <td>0.0</td>\n",
       "    </tr>\n",
       "    <tr>\n",
       "      <th>4</th>\n",
       "      <td>0000757f-a121-41ed-b17b-162e76647c1f</td>\n",
       "      <td>dde79588-12f0-4811-bab0-e2b07f633fcd</td>\n",
       "      <td>Fully Paid</td>\n",
       "      <td>11731</td>\n",
       "      <td>Short Term</td>\n",
       "      <td>746.0</td>\n",
       "      <td>4 years</td>\n",
       "      <td>Rent</td>\n",
       "      <td>50025.0</td>\n",
       "      <td>Debt Consolidation</td>\n",
       "      <td>$355.18</td>\n",
       "      <td>11.5</td>\n",
       "      <td>34.88145</td>\n",
       "      <td>12</td>\n",
       "      <td>0</td>\n",
       "      <td>17391</td>\n",
       "      <td>37081</td>\n",
       "      <td>0.0</td>\n",
       "      <td>0.0</td>\n",
       "    </tr>\n",
       "  </tbody>\n",
       "</table>\n",
       "</div>"
      ],
      "text/plain": [
       "                                Loan ID                           Customer ID  \\\n",
       "0  000025bb-5694-4cff-b17d-192b1a98ba44  5ebc8bb1-5eb9-4404-b11b-a6eebc401a19   \n",
       "1  00002c49-3a29-4bd4-8f67-c8f8fbc1048c  927b388d-2e01-423f-a8dc-f7e42d668f46   \n",
       "2  00002d89-27f3-409b-aa76-90834f359a65  defce609-c631-447d-aad6-1270615e89c4   \n",
       "3  00005222-b4d8-45a4-ad8c-186057e24233  070bcecb-aae7-4485-a26a-e0403e7bb6c5   \n",
       "4  0000757f-a121-41ed-b17b-162e76647c1f  dde79588-12f0-4811-bab0-e2b07f633fcd   \n",
       "\n",
       "  Loan Status  Current Loan Amount        Term  Credit Score  \\\n",
       "0  Fully Paid                11520  Short Term         741.0   \n",
       "1  Fully Paid                 3441  Short Term         734.0   \n",
       "2  Fully Paid                21029  Short Term         747.0   \n",
       "3  Fully Paid                18743  Short Term         747.0   \n",
       "4  Fully Paid                11731  Short Term         746.0   \n",
       "\n",
       "  Years in current job Home Ownership  Annual Income             Purpose  \\\n",
       "0            10+ years  Home Mortgage        33694.0  Debt Consolidation   \n",
       "1              4 years  Home Mortgage        42269.0               other   \n",
       "2            10+ years  Home Mortgage        90126.0  Debt Consolidation   \n",
       "3            10+ years       Own Home        38072.0  Debt Consolidation   \n",
       "4              4 years           Rent        50025.0  Debt Consolidation   \n",
       "\n",
       "  Monthly Debt  Years of Credit History  Months since last delinquent  \\\n",
       "0      $584.03                     12.3                      41.00000   \n",
       "1   $1,106.04                      26.3                      34.88145   \n",
       "2   $1,321.85                      28.8                      34.88145   \n",
       "3      $751.92                     26.2                      34.88145   \n",
       "4      $355.18                     11.5                      34.88145   \n",
       "\n",
       "   Number of Open Accounts  Number of Credit Problems  Current Credit Balance  \\\n",
       "0                       10                          0                    6760   \n",
       "1                       17                          0                    6262   \n",
       "2                        5                          0                   20967   \n",
       "3                        9                          0                   22529   \n",
       "4                       12                          0                   17391   \n",
       "\n",
       "  Maximum Open Credit  Bankruptcies  Tax Liens  \n",
       "0               16056           0.0        0.0  \n",
       "1               19149           0.0        0.0  \n",
       "2               28335           0.0        0.0  \n",
       "3               43915           0.0        0.0  \n",
       "4               37081           0.0        0.0  "
      ]
     },
     "execution_count": 36,
     "metadata": {},
     "output_type": "execute_result"
    }
   ],
   "source": [
    "df.head()"
   ]
  },
  {
   "cell_type": "code",
   "execution_count": 37,
   "id": "eec24709",
   "metadata": {},
   "outputs": [],
   "source": [
    "# look at the purpsoe cells unique values maybe it has spelling differences "
   ]
  },
  {
   "cell_type": "code",
   "execution_count": 38,
   "id": "41210314",
   "metadata": {},
   "outputs": [
    {
     "data": {
      "text/plain": [
       "array(['Debt Consolidation', 'other', 'Business Loan',\n",
       "       'Home Improvements', 'Buy House', 'Other', 'Buy a Car',\n",
       "       'Medical Bills', 'Take a Trip', 'Educational Expenses'],\n",
       "      dtype=object)"
      ]
     },
     "execution_count": 38,
     "metadata": {},
     "output_type": "execute_result"
    }
   ],
   "source": [
    "df[\"Purpose\"].unique()"
   ]
  },
  {
   "cell_type": "code",
   "execution_count": 39,
   "id": "e2398e52",
   "metadata": {},
   "outputs": [],
   "source": [
    "#other and Other is same we will to connect each other"
   ]
  },
  {
   "cell_type": "code",
   "execution_count": 40,
   "id": "18be36ee",
   "metadata": {},
   "outputs": [],
   "source": [
    "df['Purpose'] = df['Purpose'].replace('Other', 'other')"
   ]
  },
  {
   "cell_type": "code",
   "execution_count": 41,
   "id": "8536dae3",
   "metadata": {},
   "outputs": [],
   "source": [
    "#chek it "
   ]
  },
  {
   "cell_type": "code",
   "execution_count": 42,
   "id": "72c0d242",
   "metadata": {},
   "outputs": [
    {
     "data": {
      "text/plain": [
       "array(['Debt Consolidation', 'other', 'Business Loan',\n",
       "       'Home Improvements', 'Buy House', 'Buy a Car', 'Medical Bills',\n",
       "       'Take a Trip', 'Educational Expenses'], dtype=object)"
      ]
     },
     "execution_count": 42,
     "metadata": {},
     "output_type": "execute_result"
    }
   ],
   "source": [
    "df[\"Purpose\"].unique()"
   ]
  },
  {
   "cell_type": "code",
   "execution_count": 43,
   "id": "9ec09e0c",
   "metadata": {},
   "outputs": [],
   "source": [
    "#Lets check other object cells"
   ]
  },
  {
   "cell_type": "code",
   "execution_count": 44,
   "id": "d4a65cf3",
   "metadata": {},
   "outputs": [],
   "source": [
    "#for Loan Status"
   ]
  },
  {
   "cell_type": "code",
   "execution_count": 45,
   "id": "c3080d08",
   "metadata": {},
   "outputs": [
    {
     "data": {
      "text/plain": [
       "array(['Fully Paid', 'Charged Off'], dtype=object)"
      ]
     },
     "execution_count": 45,
     "metadata": {},
     "output_type": "execute_result"
    }
   ],
   "source": [
    "df[\"Loan Status\"].unique()"
   ]
  },
  {
   "cell_type": "code",
   "execution_count": 46,
   "id": "f2ff5345",
   "metadata": {},
   "outputs": [],
   "source": [
    "#for Term"
   ]
  },
  {
   "cell_type": "code",
   "execution_count": 47,
   "id": "def3001d",
   "metadata": {},
   "outputs": [
    {
     "data": {
      "text/plain": [
       "array(['Short Term', 'Long Term'], dtype=object)"
      ]
     },
     "execution_count": 47,
     "metadata": {},
     "output_type": "execute_result"
    }
   ],
   "source": [
    "df[\"Term\"].unique()"
   ]
  },
  {
   "cell_type": "code",
   "execution_count": 48,
   "id": "fa824bbb",
   "metadata": {},
   "outputs": [],
   "source": [
    "#for Home Ownership"
   ]
  },
  {
   "cell_type": "code",
   "execution_count": 49,
   "id": "1700a99a",
   "metadata": {},
   "outputs": [
    {
     "data": {
      "text/plain": [
       "array(['Home Mortgage', 'Own Home', 'Rent', 'HaveMortgage'], dtype=object)"
      ]
     },
     "execution_count": 49,
     "metadata": {},
     "output_type": "execute_result"
    }
   ],
   "source": [
    "df[\"Home Ownership\"].unique()"
   ]
  },
  {
   "cell_type": "code",
   "execution_count": 50,
   "id": "ce68fd1e",
   "metadata": {},
   "outputs": [],
   "source": [
    "#for Years in current job"
   ]
  },
  {
   "cell_type": "code",
   "execution_count": 51,
   "id": "899b47e1",
   "metadata": {},
   "outputs": [
    {
     "data": {
      "text/plain": [
       "array(['10+ years', '4 years', '6 years', '5 years', '3 years', '2 years',\n",
       "       '< 1 year', '1 year', '7 years', '9 years', '8 years'],\n",
       "      dtype=object)"
      ]
     },
     "execution_count": 51,
     "metadata": {},
     "output_type": "execute_result"
    }
   ],
   "source": [
    "df[\"Years in current job\"].unique()"
   ]
  },
  {
   "cell_type": "code",
   "execution_count": 52,
   "id": "5e1c01f1",
   "metadata": {},
   "outputs": [],
   "source": [
    "# in Home Ownership colons Home Mortgage and HaveMortgage is same we will to connect each other"
   ]
  },
  {
   "cell_type": "code",
   "execution_count": 53,
   "id": "0fdcee0c",
   "metadata": {},
   "outputs": [],
   "source": [
    "df['Home Ownership'] = df['Home Ownership'].replace('HaveMortgage', 'Home Mortgage')"
   ]
  },
  {
   "cell_type": "code",
   "execution_count": 54,
   "id": "e8681d36",
   "metadata": {},
   "outputs": [],
   "source": [
    "#chek it"
   ]
  },
  {
   "cell_type": "code",
   "execution_count": 55,
   "id": "ca6bf004",
   "metadata": {},
   "outputs": [
    {
     "data": {
      "text/plain": [
       "array(['Home Mortgage', 'Own Home', 'Rent'], dtype=object)"
      ]
     },
     "execution_count": 55,
     "metadata": {},
     "output_type": "execute_result"
    }
   ],
   "source": [
    "df[\"Home Ownership\"].unique()"
   ]
  },
  {
   "cell_type": "code",
   "execution_count": 56,
   "id": "d715004a",
   "metadata": {},
   "outputs": [],
   "source": [
    "# credit score is float bu it is wrong let turn into integer"
   ]
  },
  {
   "cell_type": "code",
   "execution_count": 57,
   "id": "052948a0",
   "metadata": {},
   "outputs": [],
   "source": [
    "df[\"Credit Score\"]=df[\"Credit Score\"].astype(\"int32\")#Selman İmdat"
   ]
  },
  {
   "cell_type": "code",
   "execution_count": 58,
   "id": "d83f531c",
   "metadata": {},
   "outputs": [],
   "source": [
    "#lets chek"
   ]
  },
  {
   "cell_type": "code",
   "execution_count": 59,
   "id": "f32c0390",
   "metadata": {},
   "outputs": [
    {
     "name": "stdout",
     "output_type": "stream",
     "text": [
      "<class 'pandas.core.series.Series'>\n",
      "Int64Index: 240374 entries, 0 to 256983\n",
      "Series name: Credit Score\n",
      "Non-Null Count   Dtype\n",
      "--------------   -----\n",
      "240374 non-null  int32\n",
      "dtypes: int32(1)\n",
      "memory usage: 2.8 MB\n"
     ]
    }
   ],
   "source": [
    "df[\"Credit Score\"].info()"
   ]
  },
  {
   "cell_type": "code",
   "execution_count": 60,
   "id": "ab483ace",
   "metadata": {},
   "outputs": [],
   "source": [
    "# turn Monthly Debt into float beacause we can't do machine learnng with this status"
   ]
  },
  {
   "cell_type": "code",
   "execution_count": 61,
   "id": "a620deee",
   "metadata": {},
   "outputs": [],
   "source": [
    "# we replace all \",\" to \".\" "
   ]
  },
  {
   "cell_type": "code",
   "execution_count": 62,
   "id": "7ad2423c",
   "metadata": {},
   "outputs": [],
   "source": [
    "df['Monthly Debt'] = df['Monthly Debt'].str.replace(',',\".\")"
   ]
  },
  {
   "cell_type": "code",
   "execution_count": 63,
   "id": "95ce68fd",
   "metadata": {},
   "outputs": [],
   "source": [
    "#we take numeric part"
   ]
  },
  {
   "cell_type": "code",
   "execution_count": 64,
   "id": "d891934c",
   "metadata": {},
   "outputs": [],
   "source": [
    "df['Monthly Debt'] = df['Monthly Debt'].str.replace('$',\"\").str.replace('.',\"\")"
   ]
  },
  {
   "cell_type": "code",
   "execution_count": 65,
   "id": "85db4cce",
   "metadata": {},
   "outputs": [],
   "source": [
    "#and turn into float"
   ]
  },
  {
   "cell_type": "code",
   "execution_count": 66,
   "id": "214869e9",
   "metadata": {},
   "outputs": [],
   "source": [
    "df['Monthly Debt'] = df['Monthly Debt'].astype(\"int32\")"
   ]
  },
  {
   "cell_type": "code",
   "execution_count": 67,
   "id": "f2c33e18",
   "metadata": {},
   "outputs": [],
   "source": [
    "#chek "
   ]
  },
  {
   "cell_type": "code",
   "execution_count": 68,
   "id": "d5f550b1",
   "metadata": {},
   "outputs": [
    {
     "name": "stdout",
     "output_type": "stream",
     "text": [
      "<class 'pandas.core.series.Series'>\n",
      "Int64Index: 240374 entries, 0 to 256983\n",
      "Series name: Monthly Debt\n",
      "Non-Null Count   Dtype\n",
      "--------------   -----\n",
      "240374 non-null  int32\n",
      "dtypes: int32(1)\n",
      "memory usage: 2.8 MB\n"
     ]
    }
   ],
   "source": [
    "df['Monthly Debt'].info()"
   ]
  },
  {
   "cell_type": "code",
   "execution_count": 69,
   "id": "e9af5535",
   "metadata": {},
   "outputs": [],
   "source": [
    "#see 5 cell for chek"
   ]
  },
  {
   "cell_type": "code",
   "execution_count": 70,
   "id": "71157003",
   "metadata": {},
   "outputs": [
    {
     "data": {
      "text/html": [
       "<div>\n",
       "<style scoped>\n",
       "    .dataframe tbody tr th:only-of-type {\n",
       "        vertical-align: middle;\n",
       "    }\n",
       "\n",
       "    .dataframe tbody tr th {\n",
       "        vertical-align: top;\n",
       "    }\n",
       "\n",
       "    .dataframe thead th {\n",
       "        text-align: right;\n",
       "    }\n",
       "</style>\n",
       "<table border=\"1\" class=\"dataframe\">\n",
       "  <thead>\n",
       "    <tr style=\"text-align: right;\">\n",
       "      <th></th>\n",
       "      <th>Monthly Debt</th>\n",
       "    </tr>\n",
       "  </thead>\n",
       "  <tbody>\n",
       "    <tr>\n",
       "      <th>0</th>\n",
       "      <td>58403</td>\n",
       "    </tr>\n",
       "    <tr>\n",
       "      <th>1</th>\n",
       "      <td>110604</td>\n",
       "    </tr>\n",
       "    <tr>\n",
       "      <th>2</th>\n",
       "      <td>132185</td>\n",
       "    </tr>\n",
       "    <tr>\n",
       "      <th>3</th>\n",
       "      <td>75192</td>\n",
       "    </tr>\n",
       "    <tr>\n",
       "      <th>4</th>\n",
       "      <td>35518</td>\n",
       "    </tr>\n",
       "  </tbody>\n",
       "</table>\n",
       "</div>"
      ],
      "text/plain": [
       "   Monthly Debt\n",
       "0         58403\n",
       "1        110604\n",
       "2        132185\n",
       "3         75192\n",
       "4         35518"
      ]
     },
     "execution_count": 70,
     "metadata": {},
     "output_type": "execute_result"
    }
   ],
   "source": [
    "df[['Monthly Debt']].head()"
   ]
  },
  {
   "cell_type": "code",
   "execution_count": 71,
   "id": "ccb5fbf6",
   "metadata": {},
   "outputs": [],
   "source": [
    "# Months since last delinquent turn to integer mounth count cant be float "
   ]
  },
  {
   "cell_type": "code",
   "execution_count": 72,
   "id": "d2bb7f91",
   "metadata": {},
   "outputs": [],
   "source": [
    "df[\"Months since last delinquent\"]=df[\"Months since last delinquent\"].astype(\"int32\")"
   ]
  },
  {
   "cell_type": "code",
   "execution_count": 73,
   "id": "b996efcf",
   "metadata": {},
   "outputs": [
    {
     "data": {
      "text/html": [
       "<div>\n",
       "<style scoped>\n",
       "    .dataframe tbody tr th:only-of-type {\n",
       "        vertical-align: middle;\n",
       "    }\n",
       "\n",
       "    .dataframe tbody tr th {\n",
       "        vertical-align: top;\n",
       "    }\n",
       "\n",
       "    .dataframe thead th {\n",
       "        text-align: right;\n",
       "    }\n",
       "</style>\n",
       "<table border=\"1\" class=\"dataframe\">\n",
       "  <thead>\n",
       "    <tr style=\"text-align: right;\">\n",
       "      <th></th>\n",
       "      <th>Loan ID</th>\n",
       "      <th>Customer ID</th>\n",
       "      <th>Loan Status</th>\n",
       "      <th>Current Loan Amount</th>\n",
       "      <th>Term</th>\n",
       "      <th>Credit Score</th>\n",
       "      <th>Years in current job</th>\n",
       "      <th>Home Ownership</th>\n",
       "      <th>Annual Income</th>\n",
       "      <th>Purpose</th>\n",
       "      <th>Monthly Debt</th>\n",
       "      <th>Years of Credit History</th>\n",
       "      <th>Months since last delinquent</th>\n",
       "      <th>Number of Open Accounts</th>\n",
       "      <th>Number of Credit Problems</th>\n",
       "      <th>Current Credit Balance</th>\n",
       "      <th>Maximum Open Credit</th>\n",
       "      <th>Bankruptcies</th>\n",
       "      <th>Tax Liens</th>\n",
       "    </tr>\n",
       "  </thead>\n",
       "  <tbody>\n",
       "    <tr>\n",
       "      <th>0</th>\n",
       "      <td>000025bb-5694-4cff-b17d-192b1a98ba44</td>\n",
       "      <td>5ebc8bb1-5eb9-4404-b11b-a6eebc401a19</td>\n",
       "      <td>Fully Paid</td>\n",
       "      <td>11520</td>\n",
       "      <td>Short Term</td>\n",
       "      <td>741</td>\n",
       "      <td>10+ years</td>\n",
       "      <td>Home Mortgage</td>\n",
       "      <td>33694.0</td>\n",
       "      <td>Debt Consolidation</td>\n",
       "      <td>58403</td>\n",
       "      <td>12.3</td>\n",
       "      <td>41</td>\n",
       "      <td>10</td>\n",
       "      <td>0</td>\n",
       "      <td>6760</td>\n",
       "      <td>16056</td>\n",
       "      <td>0.0</td>\n",
       "      <td>0.0</td>\n",
       "    </tr>\n",
       "    <tr>\n",
       "      <th>1</th>\n",
       "      <td>00002c49-3a29-4bd4-8f67-c8f8fbc1048c</td>\n",
       "      <td>927b388d-2e01-423f-a8dc-f7e42d668f46</td>\n",
       "      <td>Fully Paid</td>\n",
       "      <td>3441</td>\n",
       "      <td>Short Term</td>\n",
       "      <td>734</td>\n",
       "      <td>4 years</td>\n",
       "      <td>Home Mortgage</td>\n",
       "      <td>42269.0</td>\n",
       "      <td>other</td>\n",
       "      <td>110604</td>\n",
       "      <td>26.3</td>\n",
       "      <td>34</td>\n",
       "      <td>17</td>\n",
       "      <td>0</td>\n",
       "      <td>6262</td>\n",
       "      <td>19149</td>\n",
       "      <td>0.0</td>\n",
       "      <td>0.0</td>\n",
       "    </tr>\n",
       "    <tr>\n",
       "      <th>2</th>\n",
       "      <td>00002d89-27f3-409b-aa76-90834f359a65</td>\n",
       "      <td>defce609-c631-447d-aad6-1270615e89c4</td>\n",
       "      <td>Fully Paid</td>\n",
       "      <td>21029</td>\n",
       "      <td>Short Term</td>\n",
       "      <td>747</td>\n",
       "      <td>10+ years</td>\n",
       "      <td>Home Mortgage</td>\n",
       "      <td>90126.0</td>\n",
       "      <td>Debt Consolidation</td>\n",
       "      <td>132185</td>\n",
       "      <td>28.8</td>\n",
       "      <td>34</td>\n",
       "      <td>5</td>\n",
       "      <td>0</td>\n",
       "      <td>20967</td>\n",
       "      <td>28335</td>\n",
       "      <td>0.0</td>\n",
       "      <td>0.0</td>\n",
       "    </tr>\n",
       "    <tr>\n",
       "      <th>3</th>\n",
       "      <td>00005222-b4d8-45a4-ad8c-186057e24233</td>\n",
       "      <td>070bcecb-aae7-4485-a26a-e0403e7bb6c5</td>\n",
       "      <td>Fully Paid</td>\n",
       "      <td>18743</td>\n",
       "      <td>Short Term</td>\n",
       "      <td>747</td>\n",
       "      <td>10+ years</td>\n",
       "      <td>Own Home</td>\n",
       "      <td>38072.0</td>\n",
       "      <td>Debt Consolidation</td>\n",
       "      <td>75192</td>\n",
       "      <td>26.2</td>\n",
       "      <td>34</td>\n",
       "      <td>9</td>\n",
       "      <td>0</td>\n",
       "      <td>22529</td>\n",
       "      <td>43915</td>\n",
       "      <td>0.0</td>\n",
       "      <td>0.0</td>\n",
       "    </tr>\n",
       "    <tr>\n",
       "      <th>4</th>\n",
       "      <td>0000757f-a121-41ed-b17b-162e76647c1f</td>\n",
       "      <td>dde79588-12f0-4811-bab0-e2b07f633fcd</td>\n",
       "      <td>Fully Paid</td>\n",
       "      <td>11731</td>\n",
       "      <td>Short Term</td>\n",
       "      <td>746</td>\n",
       "      <td>4 years</td>\n",
       "      <td>Rent</td>\n",
       "      <td>50025.0</td>\n",
       "      <td>Debt Consolidation</td>\n",
       "      <td>35518</td>\n",
       "      <td>11.5</td>\n",
       "      <td>34</td>\n",
       "      <td>12</td>\n",
       "      <td>0</td>\n",
       "      <td>17391</td>\n",
       "      <td>37081</td>\n",
       "      <td>0.0</td>\n",
       "      <td>0.0</td>\n",
       "    </tr>\n",
       "  </tbody>\n",
       "</table>\n",
       "</div>"
      ],
      "text/plain": [
       "                                Loan ID                           Customer ID  \\\n",
       "0  000025bb-5694-4cff-b17d-192b1a98ba44  5ebc8bb1-5eb9-4404-b11b-a6eebc401a19   \n",
       "1  00002c49-3a29-4bd4-8f67-c8f8fbc1048c  927b388d-2e01-423f-a8dc-f7e42d668f46   \n",
       "2  00002d89-27f3-409b-aa76-90834f359a65  defce609-c631-447d-aad6-1270615e89c4   \n",
       "3  00005222-b4d8-45a4-ad8c-186057e24233  070bcecb-aae7-4485-a26a-e0403e7bb6c5   \n",
       "4  0000757f-a121-41ed-b17b-162e76647c1f  dde79588-12f0-4811-bab0-e2b07f633fcd   \n",
       "\n",
       "  Loan Status  Current Loan Amount        Term  Credit Score  \\\n",
       "0  Fully Paid                11520  Short Term           741   \n",
       "1  Fully Paid                 3441  Short Term           734   \n",
       "2  Fully Paid                21029  Short Term           747   \n",
       "3  Fully Paid                18743  Short Term           747   \n",
       "4  Fully Paid                11731  Short Term           746   \n",
       "\n",
       "  Years in current job Home Ownership  Annual Income             Purpose  \\\n",
       "0            10+ years  Home Mortgage        33694.0  Debt Consolidation   \n",
       "1              4 years  Home Mortgage        42269.0               other   \n",
       "2            10+ years  Home Mortgage        90126.0  Debt Consolidation   \n",
       "3            10+ years       Own Home        38072.0  Debt Consolidation   \n",
       "4              4 years           Rent        50025.0  Debt Consolidation   \n",
       "\n",
       "   Monthly Debt  Years of Credit History  Months since last delinquent  \\\n",
       "0         58403                     12.3                            41   \n",
       "1        110604                     26.3                            34   \n",
       "2        132185                     28.8                            34   \n",
       "3         75192                     26.2                            34   \n",
       "4         35518                     11.5                            34   \n",
       "\n",
       "   Number of Open Accounts  Number of Credit Problems  Current Credit Balance  \\\n",
       "0                       10                          0                    6760   \n",
       "1                       17                          0                    6262   \n",
       "2                        5                          0                   20967   \n",
       "3                        9                          0                   22529   \n",
       "4                       12                          0                   17391   \n",
       "\n",
       "  Maximum Open Credit  Bankruptcies  Tax Liens  \n",
       "0               16056           0.0        0.0  \n",
       "1               19149           0.0        0.0  \n",
       "2               28335           0.0        0.0  \n",
       "3               43915           0.0        0.0  \n",
       "4               37081           0.0        0.0  "
      ]
     },
     "execution_count": 73,
     "metadata": {},
     "output_type": "execute_result"
    }
   ],
   "source": [
    "df.head()"
   ]
  },
  {
   "cell_type": "code",
   "execution_count": 74,
   "id": "68aaf36d",
   "metadata": {},
   "outputs": [],
   "source": [
    "# Maximum Open Credit turn to integer from object "
   ]
  },
  {
   "cell_type": "code",
   "execution_count": 75,
   "id": "f19485e6",
   "metadata": {},
   "outputs": [],
   "source": [
    "#replace broken valus into none"
   ]
  },
  {
   "cell_type": "code",
   "execution_count": 76,
   "id": "434ee64c",
   "metadata": {},
   "outputs": [],
   "source": [
    "df['Maximum Open Credit']=df['Maximum Open Credit'].replace('#VALUE!',)"
   ]
  },
  {
   "cell_type": "code",
   "execution_count": 77,
   "id": "c7448b26",
   "metadata": {},
   "outputs": [],
   "source": [
    "# turn to integer"
   ]
  },
  {
   "cell_type": "code",
   "execution_count": 78,
   "id": "78a776b3",
   "metadata": {},
   "outputs": [],
   "source": [
    "df['Maximum Open Credit']=df['Maximum Open Credit'].astype(\"int32\")"
   ]
  },
  {
   "cell_type": "markdown",
   "id": "3145bd1d",
   "metadata": {},
   "source": [
    "## Models"
   ]
  },
  {
   "cell_type": "raw",
   "id": "46f32ea7",
   "metadata": {},
   "source": [
    "in this problem we will use clasificaiton on loan status"
   ]
  },
  {
   "cell_type": "code",
   "execution_count": 79,
   "id": "1e20f096",
   "metadata": {},
   "outputs": [],
   "source": [
    "#libraries"
   ]
  },
  {
   "cell_type": "code",
   "execution_count": 80,
   "id": "4d3078e8",
   "metadata": {},
   "outputs": [],
   "source": [
    "from pycaret.classification import*"
   ]
  },
  {
   "cell_type": "code",
   "execution_count": 81,
   "id": "f97c7ed0",
   "metadata": {},
   "outputs": [
    {
     "data": {
      "text/html": [
       "<style type=\"text/css\">\n",
       "#T_6895d_row11_col1 {\n",
       "  background-color: lightgreen;\n",
       "}\n",
       "</style>\n",
       "<table id=\"T_6895d\">\n",
       "  <thead>\n",
       "    <tr>\n",
       "      <th class=\"blank level0\" >&nbsp;</th>\n",
       "      <th id=\"T_6895d_level0_col0\" class=\"col_heading level0 col0\" >Description</th>\n",
       "      <th id=\"T_6895d_level0_col1\" class=\"col_heading level0 col1\" >Value</th>\n",
       "    </tr>\n",
       "  </thead>\n",
       "  <tbody>\n",
       "    <tr>\n",
       "      <th id=\"T_6895d_level0_row0\" class=\"row_heading level0 row0\" >0</th>\n",
       "      <td id=\"T_6895d_row0_col0\" class=\"data row0 col0\" >Session id</td>\n",
       "      <td id=\"T_6895d_row0_col1\" class=\"data row0 col1\" >123</td>\n",
       "    </tr>\n",
       "    <tr>\n",
       "      <th id=\"T_6895d_level0_row1\" class=\"row_heading level0 row1\" >1</th>\n",
       "      <td id=\"T_6895d_row1_col0\" class=\"data row1 col0\" >Target</td>\n",
       "      <td id=\"T_6895d_row1_col1\" class=\"data row1 col1\" >Loan Status</td>\n",
       "    </tr>\n",
       "    <tr>\n",
       "      <th id=\"T_6895d_level0_row2\" class=\"row_heading level0 row2\" >2</th>\n",
       "      <td id=\"T_6895d_row2_col0\" class=\"data row2 col0\" >Target type</td>\n",
       "      <td id=\"T_6895d_row2_col1\" class=\"data row2 col1\" >Binary</td>\n",
       "    </tr>\n",
       "    <tr>\n",
       "      <th id=\"T_6895d_level0_row3\" class=\"row_heading level0 row3\" >3</th>\n",
       "      <td id=\"T_6895d_row3_col0\" class=\"data row3 col0\" >Target mapping</td>\n",
       "      <td id=\"T_6895d_row3_col1\" class=\"data row3 col1\" >Charged Off: 0, Fully Paid: 1</td>\n",
       "    </tr>\n",
       "    <tr>\n",
       "      <th id=\"T_6895d_level0_row4\" class=\"row_heading level0 row4\" >4</th>\n",
       "      <td id=\"T_6895d_row4_col0\" class=\"data row4 col0\" >Original data shape</td>\n",
       "      <td id=\"T_6895d_row4_col1\" class=\"data row4 col1\" >(240374, 19)</td>\n",
       "    </tr>\n",
       "    <tr>\n",
       "      <th id=\"T_6895d_level0_row5\" class=\"row_heading level0 row5\" >5</th>\n",
       "      <td id=\"T_6895d_row5_col0\" class=\"data row5 col0\" >Transformed data shape</td>\n",
       "      <td id=\"T_6895d_row5_col1\" class=\"data row5 col1\" >(240374, 39)</td>\n",
       "    </tr>\n",
       "    <tr>\n",
       "      <th id=\"T_6895d_level0_row6\" class=\"row_heading level0 row6\" >6</th>\n",
       "      <td id=\"T_6895d_row6_col0\" class=\"data row6 col0\" >Transformed train set shape</td>\n",
       "      <td id=\"T_6895d_row6_col1\" class=\"data row6 col1\" >(168261, 39)</td>\n",
       "    </tr>\n",
       "    <tr>\n",
       "      <th id=\"T_6895d_level0_row7\" class=\"row_heading level0 row7\" >7</th>\n",
       "      <td id=\"T_6895d_row7_col0\" class=\"data row7 col0\" >Transformed test set shape</td>\n",
       "      <td id=\"T_6895d_row7_col1\" class=\"data row7 col1\" >(72113, 39)</td>\n",
       "    </tr>\n",
       "    <tr>\n",
       "      <th id=\"T_6895d_level0_row8\" class=\"row_heading level0 row8\" >8</th>\n",
       "      <td id=\"T_6895d_row8_col0\" class=\"data row8 col0\" >Ordinal features</td>\n",
       "      <td id=\"T_6895d_row8_col1\" class=\"data row8 col1\" >1</td>\n",
       "    </tr>\n",
       "    <tr>\n",
       "      <th id=\"T_6895d_level0_row9\" class=\"row_heading level0 row9\" >9</th>\n",
       "      <td id=\"T_6895d_row9_col0\" class=\"data row9 col0\" >Numeric features</td>\n",
       "      <td id=\"T_6895d_row9_col1\" class=\"data row9 col1\" >12</td>\n",
       "    </tr>\n",
       "    <tr>\n",
       "      <th id=\"T_6895d_level0_row10\" class=\"row_heading level0 row10\" >10</th>\n",
       "      <td id=\"T_6895d_row10_col0\" class=\"data row10 col0\" >Categorical features</td>\n",
       "      <td id=\"T_6895d_row10_col1\" class=\"data row10 col1\" >6</td>\n",
       "    </tr>\n",
       "    <tr>\n",
       "      <th id=\"T_6895d_level0_row11\" class=\"row_heading level0 row11\" >11</th>\n",
       "      <td id=\"T_6895d_row11_col0\" class=\"data row11 col0\" >Preprocess</td>\n",
       "      <td id=\"T_6895d_row11_col1\" class=\"data row11 col1\" >True</td>\n",
       "    </tr>\n",
       "    <tr>\n",
       "      <th id=\"T_6895d_level0_row12\" class=\"row_heading level0 row12\" >12</th>\n",
       "      <td id=\"T_6895d_row12_col0\" class=\"data row12 col0\" >Imputation type</td>\n",
       "      <td id=\"T_6895d_row12_col1\" class=\"data row12 col1\" >simple</td>\n",
       "    </tr>\n",
       "    <tr>\n",
       "      <th id=\"T_6895d_level0_row13\" class=\"row_heading level0 row13\" >13</th>\n",
       "      <td id=\"T_6895d_row13_col0\" class=\"data row13 col0\" >Numeric imputation</td>\n",
       "      <td id=\"T_6895d_row13_col1\" class=\"data row13 col1\" >mean</td>\n",
       "    </tr>\n",
       "    <tr>\n",
       "      <th id=\"T_6895d_level0_row14\" class=\"row_heading level0 row14\" >14</th>\n",
       "      <td id=\"T_6895d_row14_col0\" class=\"data row14 col0\" >Categorical imputation</td>\n",
       "      <td id=\"T_6895d_row14_col1\" class=\"data row14 col1\" >mode</td>\n",
       "    </tr>\n",
       "    <tr>\n",
       "      <th id=\"T_6895d_level0_row15\" class=\"row_heading level0 row15\" >15</th>\n",
       "      <td id=\"T_6895d_row15_col0\" class=\"data row15 col0\" >Maximum one-hot encoding</td>\n",
       "      <td id=\"T_6895d_row15_col1\" class=\"data row15 col1\" >25</td>\n",
       "    </tr>\n",
       "    <tr>\n",
       "      <th id=\"T_6895d_level0_row16\" class=\"row_heading level0 row16\" >16</th>\n",
       "      <td id=\"T_6895d_row16_col0\" class=\"data row16 col0\" >Encoding method</td>\n",
       "      <td id=\"T_6895d_row16_col1\" class=\"data row16 col1\" >None</td>\n",
       "    </tr>\n",
       "    <tr>\n",
       "      <th id=\"T_6895d_level0_row17\" class=\"row_heading level0 row17\" >17</th>\n",
       "      <td id=\"T_6895d_row17_col0\" class=\"data row17 col0\" >Fold Generator</td>\n",
       "      <td id=\"T_6895d_row17_col1\" class=\"data row17 col1\" >StratifiedKFold</td>\n",
       "    </tr>\n",
       "    <tr>\n",
       "      <th id=\"T_6895d_level0_row18\" class=\"row_heading level0 row18\" >18</th>\n",
       "      <td id=\"T_6895d_row18_col0\" class=\"data row18 col0\" >Fold Number</td>\n",
       "      <td id=\"T_6895d_row18_col1\" class=\"data row18 col1\" >10</td>\n",
       "    </tr>\n",
       "    <tr>\n",
       "      <th id=\"T_6895d_level0_row19\" class=\"row_heading level0 row19\" >19</th>\n",
       "      <td id=\"T_6895d_row19_col0\" class=\"data row19 col0\" >CPU Jobs</td>\n",
       "      <td id=\"T_6895d_row19_col1\" class=\"data row19 col1\" >-1</td>\n",
       "    </tr>\n",
       "    <tr>\n",
       "      <th id=\"T_6895d_level0_row20\" class=\"row_heading level0 row20\" >20</th>\n",
       "      <td id=\"T_6895d_row20_col0\" class=\"data row20 col0\" >Use GPU</td>\n",
       "      <td id=\"T_6895d_row20_col1\" class=\"data row20 col1\" >False</td>\n",
       "    </tr>\n",
       "    <tr>\n",
       "      <th id=\"T_6895d_level0_row21\" class=\"row_heading level0 row21\" >21</th>\n",
       "      <td id=\"T_6895d_row21_col0\" class=\"data row21 col0\" >Log Experiment</td>\n",
       "      <td id=\"T_6895d_row21_col1\" class=\"data row21 col1\" >False</td>\n",
       "    </tr>\n",
       "    <tr>\n",
       "      <th id=\"T_6895d_level0_row22\" class=\"row_heading level0 row22\" >22</th>\n",
       "      <td id=\"T_6895d_row22_col0\" class=\"data row22 col0\" >Experiment Name</td>\n",
       "      <td id=\"T_6895d_row22_col1\" class=\"data row22 col1\" >clf-default-name</td>\n",
       "    </tr>\n",
       "    <tr>\n",
       "      <th id=\"T_6895d_level0_row23\" class=\"row_heading level0 row23\" >23</th>\n",
       "      <td id=\"T_6895d_row23_col0\" class=\"data row23 col0\" >USI</td>\n",
       "      <td id=\"T_6895d_row23_col1\" class=\"data row23 col1\" >891b</td>\n",
       "    </tr>\n",
       "  </tbody>\n",
       "</table>\n"
      ],
      "text/plain": [
       "<pandas.io.formats.style.Styler at 0x27d57af3fa0>"
      ]
     },
     "metadata": {},
     "output_type": "display_data"
    },
    {
     "data": {
      "text/plain": [
       "<pycaret.classification.oop.ClassificationExperiment at 0x27d34eebfa0>"
      ]
     },
     "execution_count": 81,
     "metadata": {},
     "output_type": "execute_result"
    }
   ],
   "source": [
    "setup(df,target=\"Loan Status\",session_id=123)"
   ]
  },
  {
   "cell_type": "code",
   "execution_count": 82,
   "id": "23b42502",
   "metadata": {},
   "outputs": [
    {
     "data": {
      "text/html": [],
      "text/plain": [
       "<IPython.core.display.HTML object>"
      ]
     },
     "metadata": {},
     "output_type": "display_data"
    },
    {
     "data": {
      "text/html": [
       "<style type=\"text/css\">\n",
       "#T_05b80 th {\n",
       "  text-align: left;\n",
       "}\n",
       "#T_05b80_row0_col0, #T_05b80_row0_col4, #T_05b80_row1_col0, #T_05b80_row1_col1, #T_05b80_row1_col2, #T_05b80_row1_col4, #T_05b80_row1_col5, #T_05b80_row1_col6, #T_05b80_row1_col7, #T_05b80_row2_col0, #T_05b80_row2_col1, #T_05b80_row2_col2, #T_05b80_row2_col4, #T_05b80_row2_col5, #T_05b80_row2_col6, #T_05b80_row2_col7, #T_05b80_row3_col0, #T_05b80_row3_col1, #T_05b80_row3_col2, #T_05b80_row3_col4, #T_05b80_row3_col5, #T_05b80_row3_col6, #T_05b80_row3_col7, #T_05b80_row4_col0, #T_05b80_row4_col1, #T_05b80_row4_col2, #T_05b80_row4_col4, #T_05b80_row4_col5, #T_05b80_row4_col6, #T_05b80_row4_col7, #T_05b80_row5_col0, #T_05b80_row5_col1, #T_05b80_row5_col2, #T_05b80_row5_col4, #T_05b80_row5_col5, #T_05b80_row5_col6, #T_05b80_row5_col7, #T_05b80_row6_col0, #T_05b80_row6_col1, #T_05b80_row6_col2, #T_05b80_row6_col4, #T_05b80_row6_col5, #T_05b80_row6_col6, #T_05b80_row6_col7, #T_05b80_row7_col0, #T_05b80_row7_col1, #T_05b80_row7_col2, #T_05b80_row7_col4, #T_05b80_row7_col5, #T_05b80_row7_col6, #T_05b80_row7_col7, #T_05b80_row8_col0, #T_05b80_row8_col1, #T_05b80_row8_col2, #T_05b80_row8_col4, #T_05b80_row8_col5, #T_05b80_row8_col6, #T_05b80_row8_col7, #T_05b80_row9_col0, #T_05b80_row9_col1, #T_05b80_row9_col2, #T_05b80_row9_col3, #T_05b80_row9_col4, #T_05b80_row9_col5, #T_05b80_row9_col6, #T_05b80_row9_col7, #T_05b80_row10_col0, #T_05b80_row10_col1, #T_05b80_row10_col2, #T_05b80_row10_col4, #T_05b80_row10_col5, #T_05b80_row10_col6, #T_05b80_row10_col7, #T_05b80_row11_col0, #T_05b80_row11_col1, #T_05b80_row11_col2, #T_05b80_row11_col3, #T_05b80_row11_col4, #T_05b80_row11_col5, #T_05b80_row11_col6, #T_05b80_row11_col7, #T_05b80_row12_col0, #T_05b80_row12_col1, #T_05b80_row12_col2, #T_05b80_row12_col3, #T_05b80_row12_col5, #T_05b80_row12_col6, #T_05b80_row12_col7, #T_05b80_row13_col0, #T_05b80_row13_col1, #T_05b80_row13_col2, #T_05b80_row13_col3, #T_05b80_row13_col4, #T_05b80_row13_col5, #T_05b80_row13_col6, #T_05b80_row13_col7 {\n",
       "  text-align: left;\n",
       "}\n",
       "#T_05b80_row0_col1, #T_05b80_row0_col2, #T_05b80_row0_col3, #T_05b80_row0_col5, #T_05b80_row0_col6, #T_05b80_row0_col7, #T_05b80_row1_col3, #T_05b80_row2_col3, #T_05b80_row3_col3, #T_05b80_row4_col3, #T_05b80_row5_col3, #T_05b80_row6_col3, #T_05b80_row7_col3, #T_05b80_row8_col3, #T_05b80_row10_col3, #T_05b80_row12_col4 {\n",
       "  text-align: left;\n",
       "  background-color: yellow;\n",
       "}\n",
       "#T_05b80_row0_col8, #T_05b80_row1_col8, #T_05b80_row2_col8, #T_05b80_row3_col8, #T_05b80_row4_col8, #T_05b80_row5_col8, #T_05b80_row6_col8, #T_05b80_row7_col8, #T_05b80_row8_col8, #T_05b80_row9_col8, #T_05b80_row11_col8, #T_05b80_row12_col8, #T_05b80_row13_col8 {\n",
       "  text-align: left;\n",
       "  background-color: lightgrey;\n",
       "}\n",
       "#T_05b80_row10_col8 {\n",
       "  text-align: left;\n",
       "  background-color: yellow;\n",
       "  background-color: lightgrey;\n",
       "}\n",
       "</style>\n",
       "<table id=\"T_05b80\">\n",
       "  <thead>\n",
       "    <tr>\n",
       "      <th class=\"blank level0\" >&nbsp;</th>\n",
       "      <th id=\"T_05b80_level0_col0\" class=\"col_heading level0 col0\" >Model</th>\n",
       "      <th id=\"T_05b80_level0_col1\" class=\"col_heading level0 col1\" >Accuracy</th>\n",
       "      <th id=\"T_05b80_level0_col2\" class=\"col_heading level0 col2\" >AUC</th>\n",
       "      <th id=\"T_05b80_level0_col3\" class=\"col_heading level0 col3\" >Recall</th>\n",
       "      <th id=\"T_05b80_level0_col4\" class=\"col_heading level0 col4\" >Prec.</th>\n",
       "      <th id=\"T_05b80_level0_col5\" class=\"col_heading level0 col5\" >F1</th>\n",
       "      <th id=\"T_05b80_level0_col6\" class=\"col_heading level0 col6\" >Kappa</th>\n",
       "      <th id=\"T_05b80_level0_col7\" class=\"col_heading level0 col7\" >MCC</th>\n",
       "      <th id=\"T_05b80_level0_col8\" class=\"col_heading level0 col8\" >TT (Sec)</th>\n",
       "    </tr>\n",
       "  </thead>\n",
       "  <tbody>\n",
       "    <tr>\n",
       "      <th id=\"T_05b80_level0_row0\" class=\"row_heading level0 row0\" >et</th>\n",
       "      <td id=\"T_05b80_row0_col0\" class=\"data row0 col0\" >Extra Trees Classifier</td>\n",
       "      <td id=\"T_05b80_row0_col1\" class=\"data row0 col1\" >0.8631</td>\n",
       "      <td id=\"T_05b80_row0_col2\" class=\"data row0 col2\" >0.8355</td>\n",
       "      <td id=\"T_05b80_row0_col3\" class=\"data row0 col3\" >1.0000</td>\n",
       "      <td id=\"T_05b80_row0_col4\" class=\"data row0 col4\" >0.8426</td>\n",
       "      <td id=\"T_05b80_row0_col5\" class=\"data row0 col5\" >0.9146</td>\n",
       "      <td id=\"T_05b80_row0_col6\" class=\"data row0 col6\" >0.5820</td>\n",
       "      <td id=\"T_05b80_row0_col7\" class=\"data row0 col7\" >0.6407</td>\n",
       "      <td id=\"T_05b80_row0_col8\" class=\"data row0 col8\" >4.2680</td>\n",
       "    </tr>\n",
       "    <tr>\n",
       "      <th id=\"T_05b80_level0_row1\" class=\"row_heading level0 row1\" >dt</th>\n",
       "      <td id=\"T_05b80_row1_col0\" class=\"data row1 col0\" >Decision Tree Classifier</td>\n",
       "      <td id=\"T_05b80_row1_col1\" class=\"data row1 col1\" >0.8619</td>\n",
       "      <td id=\"T_05b80_row1_col2\" class=\"data row1 col2\" >0.7413</td>\n",
       "      <td id=\"T_05b80_row1_col3\" class=\"data row1 col3\" >1.0000</td>\n",
       "      <td id=\"T_05b80_row1_col4\" class=\"data row1 col4\" >0.8414</td>\n",
       "      <td id=\"T_05b80_row1_col5\" class=\"data row1 col5\" >0.9139</td>\n",
       "      <td id=\"T_05b80_row1_col6\" class=\"data row1 col6\" >0.5776</td>\n",
       "      <td id=\"T_05b80_row1_col7\" class=\"data row1 col7\" >0.6373</td>\n",
       "      <td id=\"T_05b80_row1_col8\" class=\"data row1 col8\" >2.2380</td>\n",
       "    </tr>\n",
       "    <tr>\n",
       "      <th id=\"T_05b80_level0_row2\" class=\"row_heading level0 row2\" >ridge</th>\n",
       "      <td id=\"T_05b80_row2_col0\" class=\"data row2 col0\" >Ridge Classifier</td>\n",
       "      <td id=\"T_05b80_row2_col1\" class=\"data row2 col1\" >0.8619</td>\n",
       "      <td id=\"T_05b80_row2_col2\" class=\"data row2 col2\" >0.0000</td>\n",
       "      <td id=\"T_05b80_row2_col3\" class=\"data row2 col3\" >1.0000</td>\n",
       "      <td id=\"T_05b80_row2_col4\" class=\"data row2 col4\" >0.8414</td>\n",
       "      <td id=\"T_05b80_row2_col5\" class=\"data row2 col5\" >0.9139</td>\n",
       "      <td id=\"T_05b80_row2_col6\" class=\"data row2 col6\" >0.5776</td>\n",
       "      <td id=\"T_05b80_row2_col7\" class=\"data row2 col7\" >0.6373</td>\n",
       "      <td id=\"T_05b80_row2_col8\" class=\"data row2 col8\" >2.2820</td>\n",
       "    </tr>\n",
       "    <tr>\n",
       "      <th id=\"T_05b80_level0_row3\" class=\"row_heading level0 row3\" >rf</th>\n",
       "      <td id=\"T_05b80_row3_col0\" class=\"data row3 col0\" >Random Forest Classifier</td>\n",
       "      <td id=\"T_05b80_row3_col1\" class=\"data row3 col1\" >0.8619</td>\n",
       "      <td id=\"T_05b80_row3_col2\" class=\"data row3 col2\" >0.7943</td>\n",
       "      <td id=\"T_05b80_row3_col3\" class=\"data row3 col3\" >1.0000</td>\n",
       "      <td id=\"T_05b80_row3_col4\" class=\"data row3 col4\" >0.8414</td>\n",
       "      <td id=\"T_05b80_row3_col5\" class=\"data row3 col5\" >0.9139</td>\n",
       "      <td id=\"T_05b80_row3_col6\" class=\"data row3 col6\" >0.5776</td>\n",
       "      <td id=\"T_05b80_row3_col7\" class=\"data row3 col7\" >0.6373</td>\n",
       "      <td id=\"T_05b80_row3_col8\" class=\"data row3 col8\" >5.0440</td>\n",
       "    </tr>\n",
       "    <tr>\n",
       "      <th id=\"T_05b80_level0_row4\" class=\"row_heading level0 row4\" >ada</th>\n",
       "      <td id=\"T_05b80_row4_col0\" class=\"data row4 col0\" >Ada Boost Classifier</td>\n",
       "      <td id=\"T_05b80_row4_col1\" class=\"data row4 col1\" >0.8619</td>\n",
       "      <td id=\"T_05b80_row4_col2\" class=\"data row4 col2\" >0.7413</td>\n",
       "      <td id=\"T_05b80_row4_col3\" class=\"data row4 col3\" >1.0000</td>\n",
       "      <td id=\"T_05b80_row4_col4\" class=\"data row4 col4\" >0.8414</td>\n",
       "      <td id=\"T_05b80_row4_col5\" class=\"data row4 col5\" >0.9139</td>\n",
       "      <td id=\"T_05b80_row4_col6\" class=\"data row4 col6\" >0.5776</td>\n",
       "      <td id=\"T_05b80_row4_col7\" class=\"data row4 col7\" >0.6373</td>\n",
       "      <td id=\"T_05b80_row4_col8\" class=\"data row4 col8\" >2.2650</td>\n",
       "    </tr>\n",
       "    <tr>\n",
       "      <th id=\"T_05b80_level0_row5\" class=\"row_heading level0 row5\" >gbc</th>\n",
       "      <td id=\"T_05b80_row5_col0\" class=\"data row5 col0\" >Gradient Boosting Classifier</td>\n",
       "      <td id=\"T_05b80_row5_col1\" class=\"data row5 col1\" >0.8619</td>\n",
       "      <td id=\"T_05b80_row5_col2\" class=\"data row5 col2\" >0.7413</td>\n",
       "      <td id=\"T_05b80_row5_col3\" class=\"data row5 col3\" >1.0000</td>\n",
       "      <td id=\"T_05b80_row5_col4\" class=\"data row5 col4\" >0.8414</td>\n",
       "      <td id=\"T_05b80_row5_col5\" class=\"data row5 col5\" >0.9139</td>\n",
       "      <td id=\"T_05b80_row5_col6\" class=\"data row5 col6\" >0.5776</td>\n",
       "      <td id=\"T_05b80_row5_col7\" class=\"data row5 col7\" >0.6373</td>\n",
       "      <td id=\"T_05b80_row5_col8\" class=\"data row5 col8\" >12.3340</td>\n",
       "    </tr>\n",
       "    <tr>\n",
       "      <th id=\"T_05b80_level0_row6\" class=\"row_heading level0 row6\" >lda</th>\n",
       "      <td id=\"T_05b80_row6_col0\" class=\"data row6 col0\" >Linear Discriminant Analysis</td>\n",
       "      <td id=\"T_05b80_row6_col1\" class=\"data row6 col1\" >0.8619</td>\n",
       "      <td id=\"T_05b80_row6_col2\" class=\"data row6 col2\" >0.7413</td>\n",
       "      <td id=\"T_05b80_row6_col3\" class=\"data row6 col3\" >1.0000</td>\n",
       "      <td id=\"T_05b80_row6_col4\" class=\"data row6 col4\" >0.8414</td>\n",
       "      <td id=\"T_05b80_row6_col5\" class=\"data row6 col5\" >0.9139</td>\n",
       "      <td id=\"T_05b80_row6_col6\" class=\"data row6 col6\" >0.5776</td>\n",
       "      <td id=\"T_05b80_row6_col7\" class=\"data row6 col7\" >0.6373</td>\n",
       "      <td id=\"T_05b80_row6_col8\" class=\"data row6 col8\" >2.9830</td>\n",
       "    </tr>\n",
       "    <tr>\n",
       "      <th id=\"T_05b80_level0_row7\" class=\"row_heading level0 row7\" >lightgbm</th>\n",
       "      <td id=\"T_05b80_row7_col0\" class=\"data row7 col0\" >Light Gradient Boosting Machine</td>\n",
       "      <td id=\"T_05b80_row7_col1\" class=\"data row7 col1\" >0.8619</td>\n",
       "      <td id=\"T_05b80_row7_col2\" class=\"data row7 col2\" >0.7413</td>\n",
       "      <td id=\"T_05b80_row7_col3\" class=\"data row7 col3\" >1.0000</td>\n",
       "      <td id=\"T_05b80_row7_col4\" class=\"data row7 col4\" >0.8414</td>\n",
       "      <td id=\"T_05b80_row7_col5\" class=\"data row7 col5\" >0.9139</td>\n",
       "      <td id=\"T_05b80_row7_col6\" class=\"data row7 col6\" >0.5776</td>\n",
       "      <td id=\"T_05b80_row7_col7\" class=\"data row7 col7\" >0.6373</td>\n",
       "      <td id=\"T_05b80_row7_col8\" class=\"data row7 col8\" >2.7730</td>\n",
       "    </tr>\n",
       "    <tr>\n",
       "      <th id=\"T_05b80_level0_row8\" class=\"row_heading level0 row8\" >catboost</th>\n",
       "      <td id=\"T_05b80_row8_col0\" class=\"data row8 col0\" >CatBoost Classifier</td>\n",
       "      <td id=\"T_05b80_row8_col1\" class=\"data row8 col1\" >0.8619</td>\n",
       "      <td id=\"T_05b80_row8_col2\" class=\"data row8 col2\" >0.7627</td>\n",
       "      <td id=\"T_05b80_row8_col3\" class=\"data row8 col3\" >1.0000</td>\n",
       "      <td id=\"T_05b80_row8_col4\" class=\"data row8 col4\" >0.8414</td>\n",
       "      <td id=\"T_05b80_row8_col5\" class=\"data row8 col5\" >0.9139</td>\n",
       "      <td id=\"T_05b80_row8_col6\" class=\"data row8 col6\" >0.5776</td>\n",
       "      <td id=\"T_05b80_row8_col7\" class=\"data row8 col7\" >0.6373</td>\n",
       "      <td id=\"T_05b80_row8_col8\" class=\"data row8 col8\" >18.7560</td>\n",
       "    </tr>\n",
       "    <tr>\n",
       "      <th id=\"T_05b80_level0_row9\" class=\"row_heading level0 row9\" >lr</th>\n",
       "      <td id=\"T_05b80_row9_col0\" class=\"data row9 col0\" >Logistic Regression</td>\n",
       "      <td id=\"T_05b80_row9_col1\" class=\"data row9 col1\" >0.7906</td>\n",
       "      <td id=\"T_05b80_row9_col2\" class=\"data row9 col2\" >0.7283</td>\n",
       "      <td id=\"T_05b80_row9_col3\" class=\"data row9 col3\" >0.9943</td>\n",
       "      <td id=\"T_05b80_row9_col4\" class=\"data row9 col4\" >0.7803</td>\n",
       "      <td id=\"T_05b80_row9_col5\" class=\"data row9 col5\" >0.8744</td>\n",
       "      <td id=\"T_05b80_row9_col6\" class=\"data row9 col6\" >0.2968</td>\n",
       "      <td id=\"T_05b80_row9_col7\" class=\"data row9 col7\" >0.4028</td>\n",
       "      <td id=\"T_05b80_row9_col8\" class=\"data row9 col8\" >4.8460</td>\n",
       "    </tr>\n",
       "    <tr>\n",
       "      <th id=\"T_05b80_level0_row10\" class=\"row_heading level0 row10\" >dummy</th>\n",
       "      <td id=\"T_05b80_row10_col0\" class=\"data row10 col0\" >Dummy Classifier</td>\n",
       "      <td id=\"T_05b80_row10_col1\" class=\"data row10 col1\" >0.7330</td>\n",
       "      <td id=\"T_05b80_row10_col2\" class=\"data row10 col2\" >0.5000</td>\n",
       "      <td id=\"T_05b80_row10_col3\" class=\"data row10 col3\" >1.0000</td>\n",
       "      <td id=\"T_05b80_row10_col4\" class=\"data row10 col4\" >0.7330</td>\n",
       "      <td id=\"T_05b80_row10_col5\" class=\"data row10 col5\" >0.8459</td>\n",
       "      <td id=\"T_05b80_row10_col6\" class=\"data row10 col6\" >0.0000</td>\n",
       "      <td id=\"T_05b80_row10_col7\" class=\"data row10 col7\" >0.0000</td>\n",
       "      <td id=\"T_05b80_row10_col8\" class=\"data row10 col8\" >2.1860</td>\n",
       "    </tr>\n",
       "    <tr>\n",
       "      <th id=\"T_05b80_level0_row11\" class=\"row_heading level0 row11\" >svm</th>\n",
       "      <td id=\"T_05b80_row11_col0\" class=\"data row11 col0\" >SVM - Linear Kernel</td>\n",
       "      <td id=\"T_05b80_row11_col1\" class=\"data row11 col1\" >0.7014</td>\n",
       "      <td id=\"T_05b80_row11_col2\" class=\"data row11 col2\" >0.0000</td>\n",
       "      <td id=\"T_05b80_row11_col3\" class=\"data row11 col3\" >0.8341</td>\n",
       "      <td id=\"T_05b80_row11_col4\" class=\"data row11 col4\" >0.7756</td>\n",
       "      <td id=\"T_05b80_row11_col5\" class=\"data row11 col5\" >0.8032</td>\n",
       "      <td id=\"T_05b80_row11_col6\" class=\"data row11 col6\" >0.1838</td>\n",
       "      <td id=\"T_05b80_row11_col7\" class=\"data row11 col7\" >0.1881</td>\n",
       "      <td id=\"T_05b80_row11_col8\" class=\"data row11 col8\" >3.2120</td>\n",
       "    </tr>\n",
       "    <tr>\n",
       "      <th id=\"T_05b80_level0_row12\" class=\"row_heading level0 row12\" >nb</th>\n",
       "      <td id=\"T_05b80_row12_col0\" class=\"data row12 col0\" >Naive Bayes</td>\n",
       "      <td id=\"T_05b80_row12_col1\" class=\"data row12 col1\" >0.4180</td>\n",
       "      <td id=\"T_05b80_row12_col2\" class=\"data row12 col2\" >0.7071</td>\n",
       "      <td id=\"T_05b80_row12_col3\" class=\"data row12 col3\" >0.2073</td>\n",
       "      <td id=\"T_05b80_row12_col4\" class=\"data row12 col4\" >0.9934</td>\n",
       "      <td id=\"T_05b80_row12_col5\" class=\"data row12 col5\" >0.3430</td>\n",
       "      <td id=\"T_05b80_row12_col6\" class=\"data row12 col6\" >0.1204</td>\n",
       "      <td id=\"T_05b80_row12_col7\" class=\"data row12 col7\" >0.2502</td>\n",
       "      <td id=\"T_05b80_row12_col8\" class=\"data row12 col8\" >2.2880</td>\n",
       "    </tr>\n",
       "    <tr>\n",
       "      <th id=\"T_05b80_level0_row13\" class=\"row_heading level0 row13\" >qda</th>\n",
       "      <td id=\"T_05b80_row13_col0\" class=\"data row13 col0\" >Quadratic Discriminant Analysis</td>\n",
       "      <td id=\"T_05b80_row13_col1\" class=\"data row13 col1\" >0.2670</td>\n",
       "      <td id=\"T_05b80_row13_col2\" class=\"data row13 col2\" >0.5000</td>\n",
       "      <td id=\"T_05b80_row13_col3\" class=\"data row13 col3\" >0.0000</td>\n",
       "      <td id=\"T_05b80_row13_col4\" class=\"data row13 col4\" >0.0000</td>\n",
       "      <td id=\"T_05b80_row13_col5\" class=\"data row13 col5\" >0.0000</td>\n",
       "      <td id=\"T_05b80_row13_col6\" class=\"data row13 col6\" >0.0000</td>\n",
       "      <td id=\"T_05b80_row13_col7\" class=\"data row13 col7\" >0.0000</td>\n",
       "      <td id=\"T_05b80_row13_col8\" class=\"data row13 col8\" >2.7810</td>\n",
       "    </tr>\n",
       "  </tbody>\n",
       "</table>\n"
      ],
      "text/plain": [
       "<pandas.io.formats.style.Styler at 0x27d54a8fa60>"
      ]
     },
     "metadata": {},
     "output_type": "display_data"
    },
    {
     "data": {
      "application/vnd.jupyter.widget-view+json": {
       "model_id": "",
       "version_major": 2,
       "version_minor": 0
      },
      "text/plain": [
       "Processing:   0%|          | 0/69 [00:00<?, ?it/s]"
      ]
     },
     "metadata": {},
     "output_type": "display_data"
    },
    {
     "data": {
      "text/html": [
       "<style>#sk-container-id-1 {color: black;background-color: white;}#sk-container-id-1 pre{padding: 0;}#sk-container-id-1 div.sk-toggleable {background-color: white;}#sk-container-id-1 label.sk-toggleable__label {cursor: pointer;display: block;width: 100%;margin-bottom: 0;padding: 0.3em;box-sizing: border-box;text-align: center;}#sk-container-id-1 label.sk-toggleable__label-arrow:before {content: \"▸\";float: left;margin-right: 0.25em;color: #696969;}#sk-container-id-1 label.sk-toggleable__label-arrow:hover:before {color: black;}#sk-container-id-1 div.sk-estimator:hover label.sk-toggleable__label-arrow:before {color: black;}#sk-container-id-1 div.sk-toggleable__content {max-height: 0;max-width: 0;overflow: hidden;text-align: left;background-color: #f0f8ff;}#sk-container-id-1 div.sk-toggleable__content pre {margin: 0.2em;color: black;border-radius: 0.25em;background-color: #f0f8ff;}#sk-container-id-1 input.sk-toggleable__control:checked~div.sk-toggleable__content {max-height: 200px;max-width: 100%;overflow: auto;}#sk-container-id-1 input.sk-toggleable__control:checked~label.sk-toggleable__label-arrow:before {content: \"▾\";}#sk-container-id-1 div.sk-estimator input.sk-toggleable__control:checked~label.sk-toggleable__label {background-color: #d4ebff;}#sk-container-id-1 div.sk-label input.sk-toggleable__control:checked~label.sk-toggleable__label {background-color: #d4ebff;}#sk-container-id-1 input.sk-hidden--visually {border: 0;clip: rect(1px 1px 1px 1px);clip: rect(1px, 1px, 1px, 1px);height: 1px;margin: -1px;overflow: hidden;padding: 0;position: absolute;width: 1px;}#sk-container-id-1 div.sk-estimator {font-family: monospace;background-color: #f0f8ff;border: 1px dotted black;border-radius: 0.25em;box-sizing: border-box;margin-bottom: 0.5em;}#sk-container-id-1 div.sk-estimator:hover {background-color: #d4ebff;}#sk-container-id-1 div.sk-parallel-item::after {content: \"\";width: 100%;border-bottom: 1px solid gray;flex-grow: 1;}#sk-container-id-1 div.sk-label:hover label.sk-toggleable__label {background-color: #d4ebff;}#sk-container-id-1 div.sk-serial::before {content: \"\";position: absolute;border-left: 1px solid gray;box-sizing: border-box;top: 0;bottom: 0;left: 50%;z-index: 0;}#sk-container-id-1 div.sk-serial {display: flex;flex-direction: column;align-items: center;background-color: white;padding-right: 0.2em;padding-left: 0.2em;position: relative;}#sk-container-id-1 div.sk-item {position: relative;z-index: 1;}#sk-container-id-1 div.sk-parallel {display: flex;align-items: stretch;justify-content: center;background-color: white;position: relative;}#sk-container-id-1 div.sk-item::before, #sk-container-id-1 div.sk-parallel-item::before {content: \"\";position: absolute;border-left: 1px solid gray;box-sizing: border-box;top: 0;bottom: 0;left: 50%;z-index: -1;}#sk-container-id-1 div.sk-parallel-item {display: flex;flex-direction: column;z-index: 1;position: relative;background-color: white;}#sk-container-id-1 div.sk-parallel-item:first-child::after {align-self: flex-end;width: 50%;}#sk-container-id-1 div.sk-parallel-item:last-child::after {align-self: flex-start;width: 50%;}#sk-container-id-1 div.sk-parallel-item:only-child::after {width: 0;}#sk-container-id-1 div.sk-dashed-wrapped {border: 1px dashed gray;margin: 0 0.4em 0.5em 0.4em;box-sizing: border-box;padding-bottom: 0.4em;background-color: white;}#sk-container-id-1 div.sk-label label {font-family: monospace;font-weight: bold;display: inline-block;line-height: 1.2em;}#sk-container-id-1 div.sk-label-container {text-align: center;}#sk-container-id-1 div.sk-container {/* jupyter's `normalize.less` sets `[hidden] { display: none; }` but bootstrap.min.css set `[hidden] { display: none !important; }` so we also need the `!important` here to be able to override the default hidden behavior on the sphinx rendered scikit-learn.org. See: https://github.com/scikit-learn/scikit-learn/issues/21755 */display: inline-block !important;position: relative;}#sk-container-id-1 div.sk-text-repr-fallback {display: none;}</style><div id=\"sk-container-id-1\" class=\"sk-top-container\"><div class=\"sk-text-repr-fallback\"><pre>ExtraTreesClassifier(bootstrap=False, ccp_alpha=0.0, class_weight=None,\n",
       "                     criterion=&#x27;gini&#x27;, max_depth=None, max_features=&#x27;sqrt&#x27;,\n",
       "                     max_leaf_nodes=None, max_samples=None,\n",
       "                     min_impurity_decrease=0.0, min_samples_leaf=1,\n",
       "                     min_samples_split=2, min_weight_fraction_leaf=0.0,\n",
       "                     n_estimators=100, n_jobs=-1, oob_score=False,\n",
       "                     random_state=123, verbose=0, warm_start=False)</pre><b>In a Jupyter environment, please rerun this cell to show the HTML representation or trust the notebook. <br />On GitHub, the HTML representation is unable to render, please try loading this page with nbviewer.org.</b></div><div class=\"sk-container\" hidden><div class=\"sk-item\"><div class=\"sk-estimator sk-toggleable\"><input class=\"sk-toggleable__control sk-hidden--visually\" id=\"sk-estimator-id-1\" type=\"checkbox\" checked><label for=\"sk-estimator-id-1\" class=\"sk-toggleable__label sk-toggleable__label-arrow\">ExtraTreesClassifier</label><div class=\"sk-toggleable__content\"><pre>ExtraTreesClassifier(bootstrap=False, ccp_alpha=0.0, class_weight=None,\n",
       "                     criterion=&#x27;gini&#x27;, max_depth=None, max_features=&#x27;sqrt&#x27;,\n",
       "                     max_leaf_nodes=None, max_samples=None,\n",
       "                     min_impurity_decrease=0.0, min_samples_leaf=1,\n",
       "                     min_samples_split=2, min_weight_fraction_leaf=0.0,\n",
       "                     n_estimators=100, n_jobs=-1, oob_score=False,\n",
       "                     random_state=123, verbose=0, warm_start=False)</pre></div></div></div></div></div>"
      ],
      "text/plain": [
       "ExtraTreesClassifier(bootstrap=False, ccp_alpha=0.0, class_weight=None,\n",
       "                     criterion='gini', max_depth=None, max_features='sqrt',\n",
       "                     max_leaf_nodes=None, max_samples=None,\n",
       "                     min_impurity_decrease=0.0, min_samples_leaf=1,\n",
       "                     min_samples_split=2, min_weight_fraction_leaf=0.0,\n",
       "                     n_estimators=100, n_jobs=-1, oob_score=False,\n",
       "                     random_state=123, verbose=0, warm_start=False)"
      ]
     },
     "execution_count": 82,
     "metadata": {},
     "output_type": "execute_result"
    }
   ],
   "source": [
    "compare_models()"
   ]
  },
  {
   "cell_type": "code",
   "execution_count": 83,
   "id": "d01459c8",
   "metadata": {},
   "outputs": [
    {
     "data": {
      "text/html": [],
      "text/plain": [
       "<IPython.core.display.HTML object>"
      ]
     },
     "metadata": {},
     "output_type": "display_data"
    },
    {
     "data": {
      "text/html": [
       "<style type=\"text/css\">\n",
       "#T_eaa29_row10_col0, #T_eaa29_row10_col1, #T_eaa29_row10_col2, #T_eaa29_row10_col3, #T_eaa29_row10_col4, #T_eaa29_row10_col5, #T_eaa29_row10_col6 {\n",
       "  background: yellow;\n",
       "}\n",
       "</style>\n",
       "<table id=\"T_eaa29\">\n",
       "  <thead>\n",
       "    <tr>\n",
       "      <th class=\"blank level0\" >&nbsp;</th>\n",
       "      <th id=\"T_eaa29_level0_col0\" class=\"col_heading level0 col0\" >Accuracy</th>\n",
       "      <th id=\"T_eaa29_level0_col1\" class=\"col_heading level0 col1\" >AUC</th>\n",
       "      <th id=\"T_eaa29_level0_col2\" class=\"col_heading level0 col2\" >Recall</th>\n",
       "      <th id=\"T_eaa29_level0_col3\" class=\"col_heading level0 col3\" >Prec.</th>\n",
       "      <th id=\"T_eaa29_level0_col4\" class=\"col_heading level0 col4\" >F1</th>\n",
       "      <th id=\"T_eaa29_level0_col5\" class=\"col_heading level0 col5\" >Kappa</th>\n",
       "      <th id=\"T_eaa29_level0_col6\" class=\"col_heading level0 col6\" >MCC</th>\n",
       "    </tr>\n",
       "    <tr>\n",
       "      <th class=\"index_name level0\" >Fold</th>\n",
       "      <th class=\"blank col0\" >&nbsp;</th>\n",
       "      <th class=\"blank col1\" >&nbsp;</th>\n",
       "      <th class=\"blank col2\" >&nbsp;</th>\n",
       "      <th class=\"blank col3\" >&nbsp;</th>\n",
       "      <th class=\"blank col4\" >&nbsp;</th>\n",
       "      <th class=\"blank col5\" >&nbsp;</th>\n",
       "      <th class=\"blank col6\" >&nbsp;</th>\n",
       "    </tr>\n",
       "  </thead>\n",
       "  <tbody>\n",
       "    <tr>\n",
       "      <th id=\"T_eaa29_level0_row0\" class=\"row_heading level0 row0\" >0</th>\n",
       "      <td id=\"T_eaa29_row0_col0\" class=\"data row0 col0\" >0.8641</td>\n",
       "      <td id=\"T_eaa29_row0_col1\" class=\"data row0 col1\" >0.8188</td>\n",
       "      <td id=\"T_eaa29_row0_col2\" class=\"data row0 col2\" >1.0000</td>\n",
       "      <td id=\"T_eaa29_row0_col3\" class=\"data row0 col3\" >0.8436</td>\n",
       "      <td id=\"T_eaa29_row0_col4\" class=\"data row0 col4\" >0.9152</td>\n",
       "      <td id=\"T_eaa29_row0_col5\" class=\"data row0 col5\" >0.5860</td>\n",
       "      <td id=\"T_eaa29_row0_col6\" class=\"data row0 col6\" >0.6437</td>\n",
       "    </tr>\n",
       "    <tr>\n",
       "      <th id=\"T_eaa29_level0_row1\" class=\"row_heading level0 row1\" >1</th>\n",
       "      <td id=\"T_eaa29_row1_col0\" class=\"data row1 col0\" >0.8630</td>\n",
       "      <td id=\"T_eaa29_row1_col1\" class=\"data row1 col1\" >0.8408</td>\n",
       "      <td id=\"T_eaa29_row1_col2\" class=\"data row1 col2\" >1.0000</td>\n",
       "      <td id=\"T_eaa29_row1_col3\" class=\"data row1 col3\" >0.8425</td>\n",
       "      <td id=\"T_eaa29_row1_col4\" class=\"data row1 col4\" >0.9145</td>\n",
       "      <td id=\"T_eaa29_row1_col5\" class=\"data row1 col5\" >0.5818</td>\n",
       "      <td id=\"T_eaa29_row1_col6\" class=\"data row1 col6\" >0.6405</td>\n",
       "    </tr>\n",
       "    <tr>\n",
       "      <th id=\"T_eaa29_level0_row2\" class=\"row_heading level0 row2\" >2</th>\n",
       "      <td id=\"T_eaa29_row2_col0\" class=\"data row2 col0\" >0.8622</td>\n",
       "      <td id=\"T_eaa29_row2_col1\" class=\"data row2 col1\" >0.8450</td>\n",
       "      <td id=\"T_eaa29_row2_col2\" class=\"data row2 col2\" >1.0000</td>\n",
       "      <td id=\"T_eaa29_row2_col3\" class=\"data row2 col3\" >0.8417</td>\n",
       "      <td id=\"T_eaa29_row2_col4\" class=\"data row2 col4\" >0.9141</td>\n",
       "      <td id=\"T_eaa29_row2_col5\" class=\"data row2 col5\" >0.5787</td>\n",
       "      <td id=\"T_eaa29_row2_col6\" class=\"data row2 col6\" >0.6381</td>\n",
       "    </tr>\n",
       "    <tr>\n",
       "      <th id=\"T_eaa29_level0_row3\" class=\"row_heading level0 row3\" >3</th>\n",
       "      <td id=\"T_eaa29_row3_col0\" class=\"data row3 col0\" >0.8622</td>\n",
       "      <td id=\"T_eaa29_row3_col1\" class=\"data row3 col1\" >0.8276</td>\n",
       "      <td id=\"T_eaa29_row3_col2\" class=\"data row3 col2\" >1.0000</td>\n",
       "      <td id=\"T_eaa29_row3_col3\" class=\"data row3 col3\" >0.8418</td>\n",
       "      <td id=\"T_eaa29_row3_col4\" class=\"data row3 col4\" >0.9141</td>\n",
       "      <td id=\"T_eaa29_row3_col5\" class=\"data row3 col5\" >0.5790</td>\n",
       "      <td id=\"T_eaa29_row3_col6\" class=\"data row3 col6\" >0.6384</td>\n",
       "    </tr>\n",
       "    <tr>\n",
       "      <th id=\"T_eaa29_level0_row4\" class=\"row_heading level0 row4\" >4</th>\n",
       "      <td id=\"T_eaa29_row4_col0\" class=\"data row4 col0\" >0.8638</td>\n",
       "      <td id=\"T_eaa29_row4_col1\" class=\"data row4 col1\" >0.8492</td>\n",
       "      <td id=\"T_eaa29_row4_col2\" class=\"data row4 col2\" >1.0000</td>\n",
       "      <td id=\"T_eaa29_row4_col3\" class=\"data row4 col3\" >0.8433</td>\n",
       "      <td id=\"T_eaa29_row4_col4\" class=\"data row4 col4\" >0.9150</td>\n",
       "      <td id=\"T_eaa29_row4_col5\" class=\"data row4 col5\" >0.5849</td>\n",
       "      <td id=\"T_eaa29_row4_col6\" class=\"data row4 col6\" >0.6429</td>\n",
       "    </tr>\n",
       "    <tr>\n",
       "      <th id=\"T_eaa29_level0_row5\" class=\"row_heading level0 row5\" >5</th>\n",
       "      <td id=\"T_eaa29_row5_col0\" class=\"data row5 col0\" >0.8651</td>\n",
       "      <td id=\"T_eaa29_row5_col1\" class=\"data row5 col1\" >0.8546</td>\n",
       "      <td id=\"T_eaa29_row5_col2\" class=\"data row5 col2\" >1.0000</td>\n",
       "      <td id=\"T_eaa29_row5_col3\" class=\"data row5 col3\" >0.8446</td>\n",
       "      <td id=\"T_eaa29_row5_col4\" class=\"data row5 col4\" >0.9157</td>\n",
       "      <td id=\"T_eaa29_row5_col5\" class=\"data row5 col5\" >0.5894</td>\n",
       "      <td id=\"T_eaa29_row5_col6\" class=\"data row5 col6\" >0.6464</td>\n",
       "    </tr>\n",
       "    <tr>\n",
       "      <th id=\"T_eaa29_level0_row6\" class=\"row_heading level0 row6\" >6</th>\n",
       "      <td id=\"T_eaa29_row6_col0\" class=\"data row6 col0\" >0.8625</td>\n",
       "      <td id=\"T_eaa29_row6_col1\" class=\"data row6 col1\" >0.8266</td>\n",
       "      <td id=\"T_eaa29_row6_col2\" class=\"data row6 col2\" >1.0000</td>\n",
       "      <td id=\"T_eaa29_row6_col3\" class=\"data row6 col3\" >0.8420</td>\n",
       "      <td id=\"T_eaa29_row6_col4\" class=\"data row6 col4\" >0.9142</td>\n",
       "      <td id=\"T_eaa29_row6_col5\" class=\"data row6 col5\" >0.5799</td>\n",
       "      <td id=\"T_eaa29_row6_col6\" class=\"data row6 col6\" >0.6390</td>\n",
       "    </tr>\n",
       "    <tr>\n",
       "      <th id=\"T_eaa29_level0_row7\" class=\"row_heading level0 row7\" >7</th>\n",
       "      <td id=\"T_eaa29_row7_col0\" class=\"data row7 col0\" >0.8631</td>\n",
       "      <td id=\"T_eaa29_row7_col1\" class=\"data row7 col1\" >0.8342</td>\n",
       "      <td id=\"T_eaa29_row7_col2\" class=\"data row7 col2\" >1.0000</td>\n",
       "      <td id=\"T_eaa29_row7_col3\" class=\"data row7 col3\" >0.8426</td>\n",
       "      <td id=\"T_eaa29_row7_col4\" class=\"data row7 col4\" >0.9146</td>\n",
       "      <td id=\"T_eaa29_row7_col5\" class=\"data row7 col5\" >0.5823</td>\n",
       "      <td id=\"T_eaa29_row7_col6\" class=\"data row7 col6\" >0.6409</td>\n",
       "    </tr>\n",
       "    <tr>\n",
       "      <th id=\"T_eaa29_level0_row8\" class=\"row_heading level0 row8\" >8</th>\n",
       "      <td id=\"T_eaa29_row8_col0\" class=\"data row8 col0\" >0.8632</td>\n",
       "      <td id=\"T_eaa29_row8_col1\" class=\"data row8 col1\" >0.8360</td>\n",
       "      <td id=\"T_eaa29_row8_col2\" class=\"data row8 col2\" >1.0000</td>\n",
       "      <td id=\"T_eaa29_row8_col3\" class=\"data row8 col3\" >0.8427</td>\n",
       "      <td id=\"T_eaa29_row8_col4\" class=\"data row8 col4\" >0.9146</td>\n",
       "      <td id=\"T_eaa29_row8_col5\" class=\"data row8 col5\" >0.5825</td>\n",
       "      <td id=\"T_eaa29_row8_col6\" class=\"data row8 col6\" >0.6410</td>\n",
       "    </tr>\n",
       "    <tr>\n",
       "      <th id=\"T_eaa29_level0_row9\" class=\"row_heading level0 row9\" >9</th>\n",
       "      <td id=\"T_eaa29_row9_col0\" class=\"data row9 col0\" >0.8613</td>\n",
       "      <td id=\"T_eaa29_row9_col1\" class=\"data row9 col1\" >0.8223</td>\n",
       "      <td id=\"T_eaa29_row9_col2\" class=\"data row9 col2\" >1.0000</td>\n",
       "      <td id=\"T_eaa29_row9_col3\" class=\"data row9 col3\" >0.8409</td>\n",
       "      <td id=\"T_eaa29_row9_col4\" class=\"data row9 col4\" >0.9136</td>\n",
       "      <td id=\"T_eaa29_row9_col5\" class=\"data row9 col5\" >0.5756</td>\n",
       "      <td id=\"T_eaa29_row9_col6\" class=\"data row9 col6\" >0.6357</td>\n",
       "    </tr>\n",
       "    <tr>\n",
       "      <th id=\"T_eaa29_level0_row10\" class=\"row_heading level0 row10\" >Mean</th>\n",
       "      <td id=\"T_eaa29_row10_col0\" class=\"data row10 col0\" >0.8631</td>\n",
       "      <td id=\"T_eaa29_row10_col1\" class=\"data row10 col1\" >0.8355</td>\n",
       "      <td id=\"T_eaa29_row10_col2\" class=\"data row10 col2\" >1.0000</td>\n",
       "      <td id=\"T_eaa29_row10_col3\" class=\"data row10 col3\" >0.8426</td>\n",
       "      <td id=\"T_eaa29_row10_col4\" class=\"data row10 col4\" >0.9146</td>\n",
       "      <td id=\"T_eaa29_row10_col5\" class=\"data row10 col5\" >0.5820</td>\n",
       "      <td id=\"T_eaa29_row10_col6\" class=\"data row10 col6\" >0.6407</td>\n",
       "    </tr>\n",
       "    <tr>\n",
       "      <th id=\"T_eaa29_level0_row11\" class=\"row_heading level0 row11\" >Std</th>\n",
       "      <td id=\"T_eaa29_row11_col0\" class=\"data row11 col0\" >0.0010</td>\n",
       "      <td id=\"T_eaa29_row11_col1\" class=\"data row11 col1\" >0.0113</td>\n",
       "      <td id=\"T_eaa29_row11_col2\" class=\"data row11 col2\" >0.0000</td>\n",
       "      <td id=\"T_eaa29_row11_col3\" class=\"data row11 col3\" >0.0010</td>\n",
       "      <td id=\"T_eaa29_row11_col4\" class=\"data row11 col4\" >0.0006</td>\n",
       "      <td id=\"T_eaa29_row11_col5\" class=\"data row11 col5\" >0.0038</td>\n",
       "      <td id=\"T_eaa29_row11_col6\" class=\"data row11 col6\" >0.0030</td>\n",
       "    </tr>\n",
       "  </tbody>\n",
       "</table>\n"
      ],
      "text/plain": [
       "<pandas.io.formats.style.Styler at 0x27d55136fa0>"
      ]
     },
     "metadata": {},
     "output_type": "display_data"
    },
    {
     "data": {
      "application/vnd.jupyter.widget-view+json": {
       "model_id": "",
       "version_major": 2,
       "version_minor": 0
      },
      "text/plain": [
       "Processing:   0%|          | 0/4 [00:00<?, ?it/s]"
      ]
     },
     "metadata": {},
     "output_type": "display_data"
    }
   ],
   "source": [
    "best_model=create_model(\"et\")"
   ]
  },
  {
   "cell_type": "code",
   "execution_count": 84,
   "id": "ec4ce4c4",
   "metadata": {},
   "outputs": [
    {
     "data": {
      "text/html": [],
      "text/plain": [
       "<IPython.core.display.HTML object>"
      ]
     },
     "metadata": {},
     "output_type": "display_data"
    },
    {
     "data": {
      "image/png": "[encoded data removed]",
      "text/plain": [
       "<Figure size 800x500 with 1 Axes>"
      ]
     },
     "metadata": {},
     "output_type": "display_data"
    }
   ],
   "source": [
    "plot_model(best_model,plot=\"feature\")"
   ]
  },
  {
   "cell_type": "code",
   "execution_count": null,
   "id": "bd08ab8b",
   "metadata": {},
   "outputs": [],
   "source": []
  }
 ],
 "metadata": {
  "kernelspec": {
   "display_name": "Python 3 (ipykernel)",
   "language": "python",
   "name": "python3"
  },
  "language_info": {
   "codemirror_mode": {
    "name": "ipython",
    "version": 3
   },
   "file_extension": ".py",
   "mimetype": "text/x-python",
   "name": "python",
   "nbconvert_exporter": "python",
   "pygments_lexer": "ipython3",
   "version": "3.9.13"
  }
 },
 "nbformat": 4,
 "nbformat_minor": 5
}
